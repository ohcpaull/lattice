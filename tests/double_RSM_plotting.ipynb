{
 "cells": [
  {
   "cell_type": "code",
   "execution_count": 3,
   "metadata": {},
   "outputs": [
    {
     "name": "stdout",
     "output_type": "stream",
     "text": [
      "experimental omega = 49.4886\n",
      "experimental tt = 79.99\n",
      "theoretical omega = 40.04617334442352\n",
      "theoretical 2theta = 80.09234498129976\n",
      "XU.analysis.fit_bragg_peak:fitted peak angles: \n",
      "\tom = 49.4921\n",
      "\ttt = 80.0026\n",
      "delta = (9.445957140762545, -0.0897528670475225)\n",
      "experimental omega = 69.5505\n",
      "experimental tt = 84.74\n",
      "theoretical omega = 59.98768699308125\n",
      "theoretical 2theta = 84.8785727585779\n",
      "XU.analysis.fit_bragg_peak:fitted peak angles: \n",
      "\tom = 69.5504\n",
      "\ttt = 84.7282\n",
      "delta = (9.562694028408309, -0.15040142052534122)\n",
      "(101, 300)\n",
      "(101, 300)\n",
      "(300, 101)\n"
     ]
    },
    {
     "data": {
      "application/vnd.jupyter.widget-view+json": {
       "model_id": "d80c3c35c70d46018909e3dcbc8f66a8",
       "version_major": 2,
       "version_minor": 0
      },
      "text/plain": [
       "Canvas(toolbar=Toolbar(toolitems=[('Home', 'Reset original view', 'home', 'home'), ('Back', 'Back to previous …"
      ]
     },
     "metadata": {},
     "output_type": "display_data"
    },
    {
     "data": {
      "text/plain": [
       "\"\\nax1.spines['right'].set_visible(False)\\nax2.spines['left'].set_visible(False)\\nax1.yaxis.tick_left()\\nax1.tick_params(labelright='off')\\nax2.yaxis.tick_right()\\n\\nd = .02 # how big to make the diagonal lines in axes coordinates\\n# arguments to pass plot, just so we don't keep repeating them\\nkwargs = dict(transform=ax1.transAxes, color='k', clip_on=False)\\nax1.plot((1-d,1+d), (-d,+d), **kwargs)\\nax1.plot((1-d,1+d),(1-d,1+d), **kwargs)\\n\\nkwargs.update(transform=ax2.transAxes)  # switch to the bottom axes\\nax2.plot((-d,+d), (1-d,1+d), **kwargs)\\nax2.plot((-d,+d), (-d,+d), **kwargs)\\n\""
      ]
     },
     "execution_count": 3,
     "metadata": {},
     "output_type": "execute_result"
    }
   ],
   "source": [
    "import lattice\n",
    "#%matplotlib widget\n",
    "import xrayutilities as xu\n",
    "import matplotlib.pyplot as plt\n",
    "import numpy as np\n",
    "from matplotlib import cm\n",
    "from matplotlib.colors import ListedColormap, LinearSegmentedColormap\n",
    "\n",
    "# Generate new colormap for RSM display\n",
    "rainbow = cm.get_cmap('rainbow', 256)\n",
    "newcolors = rainbow(np.linspace(0, 1, 256))\n",
    "white = np.array([1, 1, 1, 1])\n",
    "newcolors[:20, :] = white\n",
    "newcmp = ListedColormap(newcolors)\n",
    "\n",
    "refHKL1 = (3, 1, 0)\n",
    "iHKL1 = (0,0,1)\n",
    "oHKL1 = (3, 1, 0)\n",
    "subMat1 = 'LAO'\n",
    "\n",
    "refHKL2 = (3, 1, 1)\n",
    "iHKL2 = (0,0,1)\n",
    "oHKL2 = (3, 1, 0)\n",
    "subMat2 = 'LAO'\n",
    "\n",
    "map1 = r'C:\\Users\\olive\\OneDrive - UNSW\\Experiments 2019\\Xrays\\P0114SA\\P0114SA_RSM_310_phi90.ras'\n",
    "map2 = r'C:\\Users\\olive\\OneDrive - UNSW\\Experiments 2019\\Xrays\\P0114SA\\P0114SA_RSM_311_phi0.ras'\n",
    "\n",
    "rsm1 = lattice.lattice(refHKL1, iHKL1, oHKL1, subMat1, geometry = 'hi_lo')#, filepath = map1)\n",
    "rsm2 = lattice.lattice(refHKL2, iHKL2, oHKL2, subMat2, geometry = 'hi_lo')#, filepath = map2)\n",
    "\n",
    "rsm1.load_sub( filepath = map1 )\n",
    "rsm2.load_sub( filepath = map2 )\n",
    "\n",
    "g = xu.Gridder2D(300,101)\n",
    "g.KeepData(True)               # I think this bad boy allows me to load multiple datasets into gridder\n",
    "g.dataRange(-0.3, 2, 4, 5.4)  # Set data range before loading data\n",
    "\n",
    "g(rsm1.qy, rsm1.qz, rsm1.data)\n",
    "#griddata = g.data\n",
    "\n",
    "g(rsm2.qy, rsm2.qz, rsm2.data)\n",
    "#griddata = g.data\n",
    "\n",
    "xaxis, yaxis = np.meshgrid(g.xaxis, g.yaxis)\n",
    "print(np.shape(xaxis))\n",
    "print(np.shape(yaxis))\n",
    "print(np.shape(g.data))\n",
    "\n",
    "%matplotlib widget\n",
    "\n",
    "#Plot data\n",
    "fig, (ax1, ax2) = plt.subplots(1, 2, facecolor='w')\n",
    "fig.subplots_adjust(left=0.125, right=0.9, bottom=0.1, top=0.5, wspace=0.2, hspace=0.2)\n",
    "\n",
    "ax1.contourf(xaxis, yaxis, np.log( np.transpose(g.data) ), 50, cmap=newcmp)\n",
    "ax1.set_xlim(-0.25, 0.25)\n",
    "ax2.contourf(xaxis, yaxis, np.transpose(g.data), 50, cmap=newcmp)\n",
    "ax2.set_xlim(1.4, 1.9)\n",
    "\n",
    "ax1.set_ylabel(r'$Q_{[310]}$ ($\\mathrm{\\AA^{-1}}$)', fontsize='x-large')\n",
    "ax1.set_xlabel(r'$Q_{[001]}$ ($\\mathrm{\\AA^{-1}}$)', fontsize='x-large')\n",
    "ax2.set_ylabel(r'$Q_{[310]}$ ($\\mathrm{\\AA^{-1}}$)', fontsize='x-large')\n",
    "ax2.set_xlabel(r'$Q_{[001]}$ ($\\mathrm{\\AA^{-1}}$)', fontsize='x-large')\n",
    "\n",
    "ax1.yaxis.set_ticks(np.arange(4, 5.4, 0.4))\n",
    "ax2.yaxis.set_ticks(np.arange(4, 5.4, 0.4))\n",
    "\n",
    "'''\n",
    "ax1.spines['right'].set_visible(False)\n",
    "ax2.spines['left'].set_visible(False)\n",
    "ax1.yaxis.tick_left()\n",
    "ax1.tick_params(labelright='off')\n",
    "ax2.yaxis.tick_right()\n",
    "\n",
    "d = .02 # how big to make the diagonal lines in axes coordinates\n",
    "# arguments to pass plot, just so we don't keep repeating them\n",
    "kwargs = dict(transform=ax1.transAxes, color='k', clip_on=False)\n",
    "ax1.plot((1-d,1+d), (-d,+d), **kwargs)\n",
    "ax1.plot((1-d,1+d),(1-d,1+d), **kwargs)\n",
    "\n",
    "kwargs.update(transform=ax2.transAxes)  # switch to the bottom axes\n",
    "ax2.plot((-d,+d), (1-d,1+d), **kwargs)\n",
    "ax2.plot((-d,+d), (-d,+d), **kwargs)\n",
    "'''\n",
    "#, position=(-0,0), fontsize='large')"
   ]
  },
  {
   "cell_type": "code",
   "execution_count": 57,
   "metadata": {},
   "outputs": [
    {
     "name": "stdout",
     "output_type": "stream",
     "text": [
      "RSM 1 Qy = (717, 201)\n",
      "RSM 1 Qz = (717, 201)\n",
      "RSM 1 data = (717, 201)\n",
      "RSM 2 Qy = (382, 165)\n",
      "RSM 2 Qz = (382, 165)\n",
      "RSM 2 data = (382, 165)\n",
      "Qy = (1099,)\n",
      "Qz = (1099,)\n",
      "psd = (1099,)\n"
     ]
    }
   ],
   "source": [
    "# Attempt 1 - put Qy Qz and intensity data from both maps into a single array and plot it\n",
    "#Issues: amending the array gives 2 elements that are data from each file, and adding individually make shte array 1D because\n",
    "#both 2D arrays are different sizes\n",
    "\n",
    "import numpy as np\n",
    "from matplotlib import pyplot as plt\n",
    "\n",
    "Qy = []\n",
    "#Qy.append( rsm1.qy )\n",
    "#Qy.append( rsm2.qy )\n",
    "for i in range(0, len(rsm1.qy)):\n",
    "    Qy.append(rsm1.qy[i])\n",
    "for i in range(0, len(rsm2.qy)):\n",
    "    Qy.append(rsm2.qy[i])\n",
    "\n",
    "Qz = []\n",
    "#Qz.append( rsm1.qz )\n",
    "#Qz.append( rsm2.qz )\n",
    "for i in range(0, len(rsm1.qz)):\n",
    "    Qz.append(rsm1.qz[i])\n",
    "for i in range(0, len(rsm2.qz)):\n",
    "    Qz.append(rsm2.qz[i])\n",
    "\n",
    "psd = []\n",
    "#psd.append( rsm1.data )\n",
    "#psd.append( rsm2.data )\n",
    "for i in range(0, len(rsm1.qy)):\n",
    "    psd.append(rsm1.data[i])\n",
    "for i in range(0, len(rsm2.qy)):\n",
    "    psd.append(rsm2.data[i])\n",
    "    \n",
    "print('RSM 1 Qy = ' + str(np.shape(rsm1.qy)))\n",
    "print('RSM 1 Qz = ' + str(np.shape(rsm1.qz)))\n",
    "print('RSM 1 data = ' + str(np.shape(rsm1.data)))\n",
    "print('RSM 2 Qy = ' + str(np.shape(rsm2.qy)))\n",
    "print('RSM 2 Qz = ' + str(np.shape(rsm2.qz)))\n",
    "print('RSM 2 data = ' + str(np.shape(rsm2.data)))\n",
    "print('Qy = ' + str(np.shape(Qy)))\n",
    "print('Qz = ' + str(np.shape(Qz)))\n",
    "print('psd = ' + str(np.shape(psd)))\n",
    "\n",
    "#gridder = xu.Gridder2D( 100, 100 )\n",
    "#gridder([rsm1.qy, rsm2.qy], [rsm1.qz, rsm2.qz], [rsm1.data, rsm2.data])\n",
    "#data = xu.maplog( gridder.data, 4, 1)\n",
    "\n",
    "#fig, ax = plt.subplot()\n",
    "\n",
    "#ax.contourf(gridder.xaxis, gridder.yaxis, np.transpose(data) )\n",
    "#ax.colorbar(label='Data')\n",
    "#ax.set_aspect('equal')\n",
    "#ax.set_xlabel(r'$Q_{[' + str(self.iHKL[0]) + '' + str(self.iHKL[1]) + '' + str(self.iHKL[2]) + ']}$', fontsize=18)\n",
    "#ax.set_ylabel(r'$Q_{[' + str(self.oHKL[0]) + '' + str(self.oHKL[1]) + '' + str(self.oHKL[2]) + ']}$', fontsize=18)\n",
    "#ax.tick_params(axis='both', which='major', labelsize=18)"
   ]
  },
  {
   "cell_type": "code",
   "execution_count": 44,
   "metadata": {},
   "outputs": [
    {
     "name": "stdout",
     "output_type": "stream",
     "text": [
      "(101, 300)\n",
      "(101, 300)\n",
      "(300, 101)\n"
     ]
    },
    {
     "data": {
      "text/plain": [
       "Text(0, 0.5, '$Q_{[310]}$ ($\\\\mathrm{\\\\AA^{-1}}$)')"
      ]
     },
     "execution_count": 44,
     "metadata": {},
     "output_type": "execute_result"
    },
    {
     "data": {
      "image/png": "[encoded data removed]",
      "text/plain": [
       "<Figure size 432x288 with 1 Axes>"
      ]
     },
     "metadata": {
      "needs_background": "light"
     },
     "output_type": "display_data"
    }
   ],
   "source": [
    "#Attempt 2 - Use properties of gridder2D to load consecutive datasets together\n",
    "\n",
    "g = xu.Gridder2D(300,101)\n",
    "g.KeepData(True)               # I think this bad boy allows me to load multiple datasets into gridder\n",
    "g.dataRange(-0.3, 2, 0, 5.45)  # Set data range before loading data\n",
    "\n",
    "g(rsm1.qy, rsm1.qz, rsm1.data)\n",
    "#griddata = g.data\n",
    "\n",
    "g(rsm2.qy, rsm2.qz, rsm2.data)\n",
    "#griddata = g.data\n",
    "\n",
    "xaxis, yaxis = np.meshgrid(g.xaxis, g.yaxis)\n",
    "print(np.shape(xaxis))\n",
    "print(np.shape(yaxis))\n",
    "print(np.shape(g.data))\n",
    "\n",
    "plt.figure()\n",
    "data = xu.maplog(g.data, 4.3, 2)\n",
    "cf = plt.contourf(xaxis, yaxis, np.transpose(data), 100, extend='min', cmap='rainbow')\n",
    "plt.xlabel(r'$Q_{[001]}$ ($\\mathrm{\\AA^{-1}}$)')\n",
    "plt.ylabel(r'$Q_{[310]}$ ($\\mathrm{\\AA^{-1}}$)')\n"
   ]
  },
  {
   "cell_type": "code",
   "execution_count": 4,
   "metadata": {},
   "outputs": [
    {
     "name": "stderr",
     "output_type": "stream",
     "text": [
      "C:\\Users\\olive\\Anaconda3\\lib\\site-packages\\matplotlib\\cbook\\__init__.py:424: MatplotlibDeprecationWarning: \n",
      "Passing one of 'on', 'true', 'off', 'false' as a boolean is deprecated; use an actual boolean (True/False) instead.\n",
      "  warn_deprecated(\"2.2\", \"Passing one of 'on', 'true', 'off', 'false' as a \"\n"
     ]
    },
    {
     "data": {
      "text/plain": [
       "Text(0.5, 0, '$Q_{[001]}$ ($\\\\mathrm{\\\\AA^{-1}}$)')"
      ]
     },
     "execution_count": 4,
     "metadata": {},
     "output_type": "execute_result"
    },
    {
     "name": "stderr",
     "output_type": "stream",
     "text": [
      "C:\\Users\\olive\\Anaconda3\\lib\\site-packages\\matplotlib\\figure.py:2369: UserWarning: This figure includes Axes that are not compatible with tight_layout, so results might be incorrect.\n",
      "  warnings.warn(\"This figure includes Axes that are not compatible \"\n"
     ]
    },
    {
     "data": {
      "image/png": "[encoded data removed]",
      "text/plain": [
       "<Figure size 432x288 with 2 Axes>"
      ]
     },
     "metadata": {},
     "output_type": "display_data"
    }
   ],
   "source": [
    "#Attempt 3 - Here I want to plot both RSMs (like in Attempt 2) but to have a broken x-axis between (310) and (311) peaks\n",
    "from matplotlib import cm\n",
    "from matplotlib.colors import ListedColormap, LinearSegmentedColormap\n",
    "import matplotlib.gridspec as gridspec\n",
    "import numpy as np\n",
    "\n",
    "# Generate new colormap for RSM display\n",
    "rainbow = cm.get_cmap('rainbow', 256)\n",
    "newcolors = rainbow(np.linspace(0, 1, 256))\n",
    "white = np.array([1, 1, 1, 1])\n",
    "newcolors[:20, :] = white\n",
    "newcmp = ListedColormap(newcolors)\n",
    "\n",
    "\n",
    "\n",
    "\n",
    "#Initialise gridder and set ranges\n",
    "g = xu.Gridder2D(400,201)\n",
    "g.KeepData(True)               # I think this bad boy allows me to load multiple datasets into gridder\n",
    "g.dataRange(-0.3, 2, 4, 5.45)  # Set data range before loading data\n",
    "\n",
    "#import first dataset to gridder\n",
    "g(rsm1.qy, rsm1.qz, rsm1.data)\n",
    "g(rsm2.qy, rsm2.qz, rsm2.data)\n",
    "\n",
    "xaxis, yaxis = np.meshgrid(g.xaxis, g.yaxis)\n",
    "data = xu.maplog(g.data, 4.1, 2.0)\n",
    "\n",
    "\n",
    "#%matplotlib widget\n",
    "\n",
    "#Plot data\n",
    "fig, (ax1, ax2) = plt.subplots(1, 2, sharey=True, facecolor='w')\n",
    "fig.subplots_adjust(left=0.125, right=0.9, bottom=0.1, top=0.5, wspace=0.2, hspace=0.2)\n",
    "\n",
    "ax1.contourf(xaxis, yaxis, np.transpose(data), 20, cmap=newcmp)\n",
    "ax1.set_xlim(-0.25, 0.25)\n",
    "ax2.contourf(xaxis, yaxis, np.transpose(data), 20, cmap=newcmp)\n",
    "ax2.set_xlim(1.4, 1.9)\n",
    "\n",
    "ax1.spines['right'].set_visible(False)\n",
    "ax2.spines['left'].set_visible(False)\n",
    "ax1.yaxis.tick_left()\n",
    "ax1.tick_params(labelright='off')\n",
    "ax2.yaxis.tick_right()\n",
    "\n",
    "d = .02 # how big to make the diagonal lines in axes coordinates\n",
    "# arguments to pass plot, just so we don't keep repeating them\n",
    "kwargs = dict(transform=ax1.transAxes, color='k', clip_on=False)\n",
    "ax1.plot((1-d,1+d), (-d,+d), **kwargs)\n",
    "ax1.plot((1-d,1+d),(1-d,1+d), **kwargs)\n",
    "\n",
    "kwargs.update(transform=ax2.transAxes)  # switch to the bottom axes\n",
    "ax2.plot((-d,+d), (1-d,1+d), **kwargs)\n",
    "ax2.plot((-d,+d), (-d,+d), **kwargs)\n",
    "\n",
    "ax1.set_ylabel(r'$Q_{[310]}$ ($\\mathrm{\\AA^{-1}}$)', fontsize='x-large')\n",
    "ax1.set_xlabel(r'$Q_{[001]}$ ($\\mathrm{\\AA^{-1}}$)', fontsize='x-large')#, position=(-0,0), fontsize='large')\n",
    "\n",
    "\n"
   ]
  },
  {
   "cell_type": "code",
   "execution_count": 131,
   "metadata": {},
   "outputs": [
    {
     "ename": "NameError",
     "evalue": "name 'x' is not defined",
     "output_type": "error",
     "traceback": [
      "\u001b[1;31m---------------------------------------------------------------------------\u001b[0m",
      "\u001b[1;31mNameError\u001b[0m                                 Traceback (most recent call last)",
      "\u001b[1;32m<ipython-input-131-ff8d26ad6eb7>\u001b[0m in \u001b[0;36m<module>\u001b[1;34m\u001b[0m\n\u001b[0;32m      4\u001b[0m \u001b[0mg\u001b[0m\u001b[1;33m.\u001b[0m\u001b[0mdataRange\u001b[0m\u001b[1;33m(\u001b[0m\u001b[1;36m1\u001b[0m\u001b[1;33m,\u001b[0m \u001b[1;36m2\u001b[0m\u001b[1;33m,\u001b[0m \u001b[1;36m3\u001b[0m\u001b[1;33m,\u001b[0m \u001b[1;36m4\u001b[0m\u001b[1;33m)\u001b[0m  \u001b[1;31m# (xgrd_min, xgrd_max, ygrd_min, ygrd_max)\u001b[0m\u001b[1;33m\u001b[0m\u001b[1;33m\u001b[0m\u001b[0m\n\u001b[0;32m      5\u001b[0m \u001b[1;31m#====== load some data here =====\u001b[0m\u001b[1;33m\u001b[0m\u001b[1;33m\u001b[0m\u001b[1;33m\u001b[0m\u001b[0m\n\u001b[1;32m----> 6\u001b[1;33m \u001b[0mg\u001b[0m\u001b[1;33m(\u001b[0m\u001b[0mx\u001b[0m\u001b[1;33m,\u001b[0m \u001b[0my\u001b[0m\u001b[1;33m,\u001b[0m \u001b[0mdata\u001b[0m\u001b[1;33m)\u001b[0m \u001b[1;31m# call the gridder with the data\u001b[0m\u001b[1;33m\u001b[0m\u001b[1;33m\u001b[0m\u001b[0m\n\u001b[0m\u001b[0;32m      7\u001b[0m \u001b[0mgriddata\u001b[0m \u001b[1;33m=\u001b[0m \u001b[0mg\u001b[0m\u001b[1;33m.\u001b[0m\u001b[0mdata\u001b[0m \u001b[1;31m# the data attribute contains the so far gridded data.\u001b[0m\u001b[1;33m\u001b[0m\u001b[1;33m\u001b[0m\u001b[0m\n\u001b[0;32m      8\u001b[0m \u001b[1;33m\u001b[0m\u001b[0m\n",
      "\u001b[1;31mNameError\u001b[0m: name 'x' is not defined"
     ]
    }
   ],
   "source": [
    "import xrayutilities as xu # import Python package\n",
    "g = xu.Gridder2D(100, 101) # initialize the Gridder object\n",
    "g.KeepData(True)\n",
    "g.dataRange(1, 2, 3, 4)  # (xgrd_min, xgrd_max, ygrd_min, ygrd_max)\n",
    "#====== load some data here =====\n",
    "g(x, y, data) # call the gridder with the data\n",
    "griddata = g.data # the data attribute contains the so far gridded data.\n",
    "\n",
    "#====== load some more data here =====\n",
    "g(x, y, data) # call the gridder with the new data\n",
    "griddata = g.data # the data attribute contains the combined gridded data."
   ]
  },
  {
   "cell_type": "code",
   "execution_count": 13,
   "metadata": {},
   "outputs": [
    {
     "data": {
      "text/plain": [
       "[array([[-0.21419198, -0.21202389, -0.20985574, ...,  0.2154653 ,\n",
       "          0.2176333 ,  0.21980124],\n",
       "        [-0.21428704, -0.21211798, -0.20994888, ...,  0.21556093,\n",
       "          0.21772989,  0.21989878],\n",
       "        [-0.21438208, -0.21221207, -0.210042  , ...,  0.21565654,\n",
       "          0.21782646,  0.21999632],\n",
       "        ...,\n",
       "        [-0.27794428, -0.27513088, -0.27231741, ...,  0.27959661,\n",
       "          0.28240988,  0.28522309],\n",
       "        [-0.27802726, -0.27521302, -0.27239871, ...,  0.27968008,\n",
       "          0.2824942 ,  0.28530824],\n",
       "        [-0.27811023, -0.27529514, -0.27247999, ...,  0.27976353,\n",
       "          0.28257849,  0.28539338]]),\n",
       " array([[1.34871663, 1.35120618, 1.35369536, ..., 1.74672157, 1.74914229,\n",
       "         1.75156253],\n",
       "        [1.34918051, 1.35167092, 1.35416095, ..., 1.74732234, 1.74974389,\n",
       "         1.75216496],\n",
       "        [1.34964429, 1.35213556, 1.35462645, ..., 1.74792299, 1.75034537,\n",
       "         1.75276727],\n",
       "        ...,\n",
       "        [1.51762222, 1.52042355, 1.52322446, ..., 1.96547103, 1.96819491,\n",
       "         1.97091824],\n",
       "        [1.51804883, 1.52085095, 1.52365265, ..., 1.96602354, 1.96874818,\n",
       "         1.97147228],\n",
       "        [1.51847534, 1.52127825, 1.52408073, ..., 1.96657591, 1.96930132,\n",
       "         1.97202618]])]"
      ]
     },
     "execution_count": 13,
     "metadata": {},
     "output_type": "execute_result"
    }
   ],
   "source": []
  },
  {
   "cell_type": "code",
   "execution_count": null,
   "metadata": {},
   "outputs": [],
   "source": [
    "def plotQ(self, xGrid, yGrid, dynLow, dynHigh, ax=None, **kwargs):\n",
    "        if ax is None:\n",
    "            fig, ax = plt.subplots()\n",
    "        #ax.set_title( self.filename )\n",
    "        \n",
    "        \n",
    "        self.gridder = xu.Gridder2D(xGrid,yGrid)\n",
    "        self.gridder(self.qy, self.qz, self.data)\n",
    "        intHigh = np.argmax(self.data)\n",
    "        intMin = np.argmin(self.data)\n",
    "        dynhigh = np.rint(np.log10(intHigh))\n",
    "        #print('intMin = ' + str(intMin))\n",
    "        #print('intHigh = ' + str(intHigh))\n",
    "        INT = xu.maplog(self.gridder.data, dynLow, dynHigh)\n",
    "\n",
    "        ax.contourf(self.gridder.xaxis, self.gridder.yaxis, np.transpose(INT),  **kwargs)\n",
    "        #ax.colorbar(label='Data')\n",
    "        #ax.set_aspect('equal')\n",
    "        ax.set_xlabel(r'$Q_{[' + str(self.iHKL[0]) + '' + str(self.iHKL[1]) + '' + str(self.iHKL[2]) + ']}$', fontsize=18)\n",
    "        ax.set_ylabel(r'$Q_{[' + str(self.oHKL[0]) + '' + str(self.oHKL[1]) + '' + str(self.oHKL[2]) + ']}$', fontsize=18)\n",
    "        ax.tick_params(axis='both', which='major', labelsize=18)\n",
    "        \n",
    "        return ax"
   ]
  }
 ],
 "metadata": {
  "kernelspec": {
   "display_name": "Python 3",
   "language": "python",
   "name": "python3"
  },
  "language_info": {
   "codemirror_mode": {
    "name": "ipython",
    "version": 3
   },
   "file_extension": ".py",
   "mimetype": "text/x-python",
   "name": "python",
   "nbconvert_exporter": "python",
   "pygments_lexer": "ipython3",
   "version": "3.7.4"
  }
 },
 "nbformat": 4,
 "nbformat_minor": 2
}

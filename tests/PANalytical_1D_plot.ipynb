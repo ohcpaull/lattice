{
 "cells": [
  {
   "cell_type": "code",
   "execution_count": 1,
   "metadata": {},
   "outputs": [],
   "source": [
    "import xrayutilities as xu\n",
    "import matplotlib.pyplot as plt\n",
    "import numpy as np\n",
    "import tkinter as tk\n",
    "from tkinter import filedialog\n",
    "import os\n",
    "import xrdtools #easy way for reading XRDML\n",
    "\n",
    "#root = tk.Tk()\n",
    "#root.withdraw()\n",
    "#filepath = filedialog.askopenfilename()\n",
    "#filename = os.path.basename(filepath)\n",
    "fpath = r'C:\\Users\\olive\\UNSW\\Daniel Sando - Samples_Ralph_Dan\\2017\\DS17016_BFO-LSMO_STO_110_35nm_20nm\\XRD'\n",
    "fname = '\\DS17016_2theta.xrdml'\n",
    "#fxrd = r'C:\\Users\\olive\\UNSW\\Daniel Sando - Samples_Ralph_Dan\\2017\\DS17111_BFO-STO_110_fresh_polished\\DS17111_XRR.xrdml'\n",
    "#pt = fxrd.rfind('\\\\' )\n",
    "#sample_name = fxrd[pt+1:pt+8]\n",
    "#print(sample_name)\n",
    "                \n",
    "\n",
    "\n",
    "data = xrdtools.read_xrdml(fpath + fname)\n",
    "\n",
    "\n",
    "om = data['Omega']\n",
    "tt = data['2Theta']\n",
    "intensity = data['data']\n",
    "\n",
    "\n",
    "#file = r'C:\\Users\\olive\\OneDrive - UNSW\\Experiments 2019\\Xrays\\VG180301\\VG180301_rockingCurve_alignment.ras'\n",
    "\n"
   ]
  },
  {
   "cell_type": "code",
   "execution_count": 67,
   "metadata": {},
   "outputs": [
    {
     "name": "stdout",
     "output_type": "stream",
     "text": [
      "C:\\Users\\olive\\UNSW\\Daniel Sando - Samples_Ralph_Dan\\2017\\DS17016_BFO-LSMO_STO_110_35nm_20nm\\XRD\\DS17016_2theta.xrdml\n"
     ]
    }
   ],
   "source": [
    "print(fpath + fname)"
   ]
  },
  {
   "cell_type": "code",
   "execution_count": 68,
   "metadata": {},
   "outputs": [
    {
     "data": {
      "application/vnd.jupyter.widget-view+json": {
       "model_id": "d3f1216dbf8f4709a7ee418356871b4f",
       "version_major": 2,
       "version_minor": 0
      },
      "text/plain": [
       "Canvas(toolbar=Toolbar(toolitems=[('Home', 'Reset original view', 'home', 'home'), ('Back', 'Back to previous …"
      ]
     },
     "metadata": {},
     "output_type": "display_data"
    }
   ],
   "source": [
    "%matplotlib widget\n",
    "fig, ax = plt.subplots()\n",
    "fig.canvas.layout.width = '7in'\n",
    "fig.canvas.layout.height= '5in'\n",
    "ax.plot(tt, intensity, label=fname)\n",
    "ax.legend()\n",
    "ax.set_xlabel( data['scanAxis'])\n",
    "ax.set_ylabel( 'Intensity (a.u.)')\n",
    "ax.set_yscale('log')"
   ]
  },
  {
   "cell_type": "code",
   "execution_count": 34,
   "metadata": {},
   "outputs": [
    {
     "name": "stdout",
     "output_type": "stream",
     "text": [
      "692.4044051012156\n"
     ]
    }
   ],
   "source": [
    "print( 2 * np.pi * 9/(0.12972-0.04805))"
   ]
  },
  {
   "cell_type": "code",
   "execution_count": 3,
   "metadata": {},
   "outputs": [
    {
     "ename": "NameError",
     "evalue": "name 'Q' is not defined",
     "output_type": "error",
     "traceback": [
      "\u001b[1;31m---------------------------------------------------------------------------\u001b[0m",
      "\u001b[1;31mNameError\u001b[0m                                 Traceback (most recent call last)",
      "\u001b[1;32m<ipython-input-3-702d9f5aa06f>\u001b[0m in \u001b[0;36m<module>\u001b[1;34m\u001b[0m\n\u001b[1;32m----> 1\u001b[1;33m \u001b[0mplt\u001b[0m\u001b[1;33m.\u001b[0m\u001b[0mplot\u001b[0m\u001b[1;33m(\u001b[0m\u001b[0mQ\u001b[0m\u001b[1;33m,\u001b[0m \u001b[0mintensity\u001b[0m\u001b[1;33m,\u001b[0m \u001b[0mlabel\u001b[0m\u001b[1;33m=\u001b[0m\u001b[1;34m'DS18002'\u001b[0m\u001b[1;33m,\u001b[0m \u001b[0mcolor\u001b[0m\u001b[1;33m=\u001b[0m\u001b[1;34m'black'\u001b[0m\u001b[1;33m)\u001b[0m\u001b[1;33m\u001b[0m\u001b[1;33m\u001b[0m\u001b[0m\n\u001b[0m\u001b[0;32m      2\u001b[0m \u001b[0mplt\u001b[0m\u001b[1;33m.\u001b[0m\u001b[0mxlabel\u001b[0m\u001b[1;33m(\u001b[0m \u001b[1;34m'2Theta (degrees)'\u001b[0m\u001b[1;33m)\u001b[0m\u001b[1;33m\u001b[0m\u001b[1;33m\u001b[0m\u001b[0m\n\u001b[0;32m      3\u001b[0m \u001b[0mplt\u001b[0m\u001b[1;33m.\u001b[0m\u001b[0mylabel\u001b[0m\u001b[1;33m(\u001b[0m \u001b[1;34m'Intensity (a.u.)'\u001b[0m\u001b[1;33m)\u001b[0m\u001b[1;33m\u001b[0m\u001b[1;33m\u001b[0m\u001b[0m\n\u001b[0;32m      4\u001b[0m \u001b[0mplt\u001b[0m\u001b[1;33m.\u001b[0m\u001b[0myscale\u001b[0m\u001b[1;33m(\u001b[0m\u001b[1;34m'log'\u001b[0m\u001b[1;33m)\u001b[0m\u001b[1;33m\u001b[0m\u001b[1;33m\u001b[0m\u001b[0m\n\u001b[0;32m      5\u001b[0m \u001b[1;33m\u001b[0m\u001b[0m\n",
      "\u001b[1;31mNameError\u001b[0m: name 'Q' is not defined"
     ]
    }
   ],
   "source": [
    "plt.plot(Q, intensity, label='DS18002', color='black')\n",
    "plt.xlabel( '2Theta (degrees)')\n",
    "plt.ylabel( 'Intensity (a.u.)')\n",
    "plt.yscale('log')\n",
    "\n",
    "#plt.xlim(0.15,0.22)\n"
   ]
  },
  {
   "cell_type": "code",
   "execution_count": 7,
   "metadata": {},
   "outputs": [],
   "source": [
    "Q = 4 * np.pi/1.54 * np.sin(np.radians(tt/2))"
   ]
  },
  {
   "cell_type": "code",
   "execution_count": null,
   "metadata": {},
   "outputs": [],
   "source": []
  }
 ],
 "metadata": {
  "kernelspec": {
   "display_name": "Python 3",
   "language": "python",
   "name": "python3"
  },
  "language_info": {
   "codemirror_mode": {
    "name": "ipython",
    "version": 3
   },
   "file_extension": ".py",
   "mimetype": "text/x-python",
   "name": "python",
   "nbconvert_exporter": "python",
   "pygments_lexer": "ipython3",
   "version": "3.7.4"
  }
 },
 "nbformat": 4,
 "nbformat_minor": 4
}

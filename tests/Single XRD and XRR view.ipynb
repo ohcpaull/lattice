{
 "cells": [
  {
   "cell_type": "markdown",
   "metadata": {},
   "source": [
    "# XRR & XRD Plotting\n",
    "## This program plots XRR and XRD in separate plots, and puts an insert into the XRR of the XRD (002) peak"
   ]
  },
  {
   "cell_type": "code",
   "execution_count": 2,
   "metadata": {},
   "outputs": [],
   "source": [
    "import lattice\n",
    "import xrayutilities as xu\n",
    "import matplotlib.pyplot as plt\n",
    "import matplotlib as mpl\n",
    "from matplotlib import cm, rcParams, gridspec\n",
    "from matplotlib.colors import ListedColormap, LinearSegmentedColormap\n",
    "import matplotlib.ticker as ticker\n",
    "import numpy as np\n",
    "import os\n",
    "\n",
    "rcParams.update({'figure.autolayout': True})\n",
    "\n",
    "# plot settings for matplotlib\n",
    "mpl.rcParams['font.family'] = 'Arial'\n",
    "mpl.rcParams['font.size'] = 10.0\n",
    "mpl.rcParams['axes.labelsize'] = 'medium'\n",
    "mpl.rcParams['figure.subplot.bottom'] = 0.16\n",
    "mpl.rcParams['figure.subplot.left'] = 0.17\n",
    "mpl.rcParams['savefig.dpi'] = 200\n",
    "mpl.rcParams['axes.grid'] = False"
   ]
  },
  {
   "cell_type": "code",
   "execution_count": 4,
   "metadata": {},
   "outputs": [
    {
     "data": {
      "application/vnd.jupyter.widget-view+json": {
       "model_id": "1d7d1b041d0a4e36854bea37b9ee3d53",
       "version_major": 2,
       "version_minor": 0
      },
      "text/plain": [
       "Canvas(toolbar=Toolbar(toolitems=[('Home', 'Reset original view', 'home', 'home'), ('Back', 'Back to previous …"
      ]
     },
     "metadata": {},
     "output_type": "display_data"
    },
    {
     "data": {
      "text/plain": [
       "Text(0.5, 1.0, 'AL5535c_2theta')"
      ]
     },
     "execution_count": 4,
     "metadata": {},
     "output_type": "execute_result"
    }
   ],
   "source": [
    "fxrd = r'C:\\Users\\olive\\OneDrive - UNSW\\Experiments 2019\\Xrays\\AL5535c\\AL5535c_2theta.ras'\n",
    "#fxrr = r'C:\\Users\\olive\\OneDrive - UNSW\\Experiments 2019\\Xrays\\P0122SA\\P0122SA_XRR_redo.ras'\n",
    "\n",
    "%matplotlib widget\n",
    "fig, ax = plt.subplots( figsize=(10, 6) )\n",
    "ax.axis('off')\n",
    "gs = gridspec.GridSpec(nrows=2, ncols=4)\n",
    "\n",
    "xrrFile = ( xu.io.rigaku_ras.RASFile(fxrr) )\n",
    "xrdFile = ( xu.io.rigaku_ras.RASFile(fxrd) )\n",
    "ax0, dat0 = xu.io.getras_scan(xrrFile.filename+'%s', '', xrrFile.scans[0].scan_axis)\n",
    "ax1, dat1 = xu.io.getras_scan(xrdFile.filename+'%s', '', xrdFile.scans[0].scan_axis)\n",
    "\n",
    "f1 = xrrFile.filename.rfind('\\\\')\n",
    "f2 = xrdFile.filename.rfind('\\\\')\n",
    "\n",
    "\n",
    "\n",
    "ax = fig.add_subplot( gs[:,0:2] ) \n",
    "\n",
    "ax.plot(dat0['TwoThetaOmega'], dat0['int']*dat0['att'], label='Data', color = 'black')\n",
    "ax.set_xlabel( '2Theta (degrees)')\n",
    "ax.set_ylabel( 'Intensity (a.u.)')\n",
    "ax.set_yscale('log')\n",
    "ax.set_title( xrrFile.filename[f1+1:-1 -3] )\n",
    "ax.set_xlim(0.2, 5)\n",
    "l, b, w, h = [0.65, 0.5, 0.2, 0.2]\n",
    "ax2 = fig.add_axes([l, b, w, h])\n",
    "ax = fig.add_subplot( gs[0, 1:2])\n",
    "ax.plot(dat1['TwoThetaOmega'], dat1['int']*dat1['att'], label='Data', color = 'black')\n",
    "ax.set_xlabel( '2Theta (degrees)')\n",
    "ax.set_ylabel( 'Intensity (a.u.)')\n",
    "ax.set_yscale('log')\n",
    "ax.set_xlim(40, 50)\n",
    "\n",
    "\n",
    "ax = fig.add_subplot( gs[:,2:] ) \n",
    "ax.plot(dat1['TwoThetaOmega'], dat1['int']*dat1['att'], label='Data', color = 'black')\n",
    "ax.set_xlabel( '2Theta (degrees)')\n",
    "ax.set_ylabel( 'Intensity (a.u.)')\n",
    "ax.set_yscale('log')\n",
    "ax.set_xlim(15, 115)\n",
    "ax.set_title( xrdFile.filename[f2+1:-1 -3 ] )\n"
   ]
  },
  {
   "cell_type": "markdown",
   "metadata": {},
   "source": [
    "# Add code to get thickness out of XRR oscillations"
   ]
  },
  {
   "cell_type": "code",
   "execution_count": 34,
   "metadata": {},
   "outputs": [
    {
     "data": {
      "application/vnd.jupyter.widget-view+json": {
       "model_id": "0a43b2b609df45e29ad7e84e53081e02",
       "version_major": 2,
       "version_minor": 0
      },
      "text/plain": [
       "Canvas(toolbar=Toolbar(toolitems=[('Home', 'Reset original view', 'home', 'home'), ('Back', 'Back to previous …"
      ]
     },
     "metadata": {},
     "output_type": "display_data"
    },
    {
     "data": {
      "text/plain": [
       "Text(0.5, 0, 'Q (A-1)')"
      ]
     },
     "execution_count": 34,
     "metadata": {},
     "output_type": "execute_result"
    }
   ],
   "source": [
    "x = dat0['TwoThetaOmega']\n",
    "q = 4 * np.pi/1.54 * np.sin(np.radians(x[100:]/2))\n",
    "y = dat0['int'][100:]*dat0['att'][100:]\n",
    "\n",
    "fig, ax = plt.subplots()\n",
    "ax.plot(q, y)\n",
    "ax.set_xlim(0.03,0.4)\n",
    "ax.set_yscale('log')\n",
    "ax.set_ylabel('Intensity (a.u.)')\n",
    "ax.set_xlabel('Q (A-1)')\n"
   ]
  },
  {
   "cell_type": "code",
   "execution_count": 24,
   "metadata": {},
   "outputs": [],
   "source": []
  },
  {
   "cell_type": "code",
   "execution_count": 82,
   "metadata": {},
   "outputs": [],
   "source": [
    "x = dat0['TwoThetaOmega']\n",
    "q = 4 * np.pi/1.54 * np.sin(np.radians(x[100:]/2))\n",
    "#q = [val for val in q if val > 0.05 and val < 0.3]\n",
    "y = np.log10( dat0['int'][100:]*dat0['att'][100:] )\n",
    "\n"
   ]
  },
  {
   "cell_type": "code",
   "execution_count": 76,
   "metadata": {},
   "outputs": [
    {
     "data": {
      "text/plain": [
       "[<matplotlib.lines.Line2D at 0x1eeeae0d648>]"
      ]
     },
     "execution_count": 76,
     "metadata": {},
     "output_type": "execute_result"
    }
   ],
   "source": [
    "plt.plot(q, y)"
   ]
  },
  {
   "cell_type": "code",
   "execution_count": 114,
   "metadata": {},
   "outputs": [
    {
     "name": "stdout",
     "output_type": "stream",
     "text": [
      "7024\n",
      "15001\n"
     ]
    }
   ],
   "source": [
    "x = dat0['TwoThetaOmega']\n",
    "q = 4 * np.pi/1.54 * np.sin(np.radians(x/2))\n",
    "q = [val for val in q if val > 0.1 and val < 0.3]\n",
    "y = np.log10( dat0['int']*dat0['att'] )\n",
    "#y = [val if b in q < for val in y if b fo]\n",
    "\n",
    "yt = [ i  for i in y if ( (x > 0.1 and x < 0.3) for x in q)  ]\n",
    "\n",
    "N = int(len(q)/2)\n",
    "T = q[1] - q[0]\n",
    "d = 2* np.pi / np.array(q)\n",
    "xf = np.linspace(0, 1 /(2.0*T), N//2)\n",
    "yf = 2.0/ N * np.abs(fft(np.log10(y[0:N//2])))\n",
    "\n",
    "print(len(q))\n",
    "print(len(yt))\n",
    "#fig, ax = plt.subplots()\n",
    "#ax.plot(d, yf )\n",
    "#ax.set_yscale('log')\n",
    "#2.0/N * np.abs(yf[0:N//2])"
   ]
  },
  {
   "cell_type": "code",
   "execution_count": 28,
   "metadata": {},
   "outputs": [
    {
     "data": {
      "text/plain": [
       "15001"
      ]
     },
     "execution_count": 28,
     "metadata": {},
     "output_type": "execute_result"
    }
   ],
   "source": [
    "len(x)"
   ]
  },
  {
   "cell_type": "code",
   "execution_count": 29,
   "metadata": {},
   "outputs": [
    {
     "data": {
      "text/plain": [
       "15001"
      ]
     },
     "execution_count": 29,
     "metadata": {},
     "output_type": "execute_result"
    }
   ],
   "source": [
    "len(y)"
   ]
  },
  {
   "cell_type": "code",
   "execution_count": 31,
   "metadata": {},
   "outputs": [
    {
     "data": {
      "text/plain": [
       "0.04"
      ]
     },
     "execution_count": 31,
     "metadata": {},
     "output_type": "execute_result"
    }
   ],
   "source": [
    "x[0]"
   ]
  },
  {
   "cell_type": "code",
   "execution_count": 27,
   "metadata": {},
   "outputs": [
    {
     "data": {
      "application/vnd.jupyter.widget-view+json": {
       "model_id": "03e4bf63ccd945b4bce80b6ebf5583d5",
       "version_major": 2,
       "version_minor": 0
      },
      "text/plain": [
       "Canvas(toolbar=Toolbar(toolitems=[('Home', 'Reset original view', 'home', 'home'), ('Back', 'Back to previous …"
      ]
     },
     "metadata": {},
     "output_type": "display_data"
    },
    {
     "name": "stderr",
     "output_type": "stream",
     "text": [
      "C:\\Users\\olive\\Anaconda3\\lib\\site-packages\\numpy\\core\\numeric.py:538: ComplexWarning: Casting complex values to real discards the imaginary part\n",
      "  return array(a, dtype, copy=False, order=order)\n"
     ]
    },
    {
     "data": {
      "text/plain": [
       "[<matplotlib.lines.Line2D at 0x1eedef37388>]"
      ]
     },
     "execution_count": 27,
     "metadata": {},
     "output_type": "execute_result"
    }
   ],
   "source": [
    "fig, ax = plt.subplots()\n",
    "ax.plot(fft_y)\n",
    "#ax.set_xlim(0.03,1000)\n",
    "#ax.set_yscale('log')\n",
    "#ax.set_ylabel('Intensity (a.u.)')\n",
    "#ax.set_xlabel('Q (A-1)')\n"
   ]
  },
  {
   "cell_type": "code",
   "execution_count": null,
   "metadata": {},
   "outputs": [],
   "source": []
  }
 ],
 "metadata": {
  "kernelspec": {
   "display_name": "Python 3",
   "language": "python",
   "name": "python3"
  },
  "language_info": {
   "codemirror_mode": {
    "name": "ipython",
    "version": 3
   },
   "file_extension": ".py",
   "mimetype": "text/x-python",
   "name": "python",
   "nbconvert_exporter": "python",
   "pygments_lexer": "ipython3",
   "version": "3.7.4"
  }
 },
 "nbformat": 4,
 "nbformat_minor": 4
}

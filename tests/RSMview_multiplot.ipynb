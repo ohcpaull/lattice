{
 "cells": [
  {
   "cell_type": "code",
   "execution_count": null,
   "metadata": {},
   "outputs": [],
   "source": [
    "import lattice\n",
    "#%matplotlib widget\n",
    "import xrayutilities as xu\n",
    "import matplotlib.pyplot as plt\n",
    "from matplotlib import cm, rcParams\n",
    "from matplotlib.colors import ListedColormap, LinearSegmentedColormap\n",
    "import numpy as np\n",
    "\n",
    "# Generate new colormap for RSM display\n",
    "rainbow = cm.get_cmap('rainbow', 256)\n",
    "newcolors = rainbow(np.linspace(0, 1, 256))\n",
    "white = np.array([1, 1, 1, 1])\n",
    "newcolors[:20, :] = white\n",
    "newcmp = ListedColormap(newcolors)\n",
    "\n",
    "\n",
    "ref1HKL = (3, 2, 0)\n",
    "i1HKL = (0,0,1)\n",
    "i2HKL = (1,-3,0)\n",
    "oHKL = (3, 1, 0)\n",
    "subMat = 'LAO'\n",
    "\n",
    "map1 = lattice.lattice(ref1HKL, i2HKL, oHKL, subMat, geometry = 'hi_lo')\n",
    "map1.load_sub()\n",
    "\n",
    "#map2 = lattice.lattice(ref2HKL, i2HKL, oHKL, subMat, geometry = 'real')\n",
    "#map2.load_sub()"
   ]
  },
  {
   "cell_type": "code",
   "execution_count": null,
   "metadata": {
    "jupyter": {
     "source_hidden": true
    }
   },
   "outputs": [],
   "source": [
    "fig, ax = plt.subplots()\n"
   ]
  },
  {
   "cell_type": "code",
   "execution_count": 2,
   "metadata": {
    "collapsed": true,
    "jupyter": {
     "outputs_hidden": true,
     "source_hidden": true
    }
   },
   "outputs": [
    {
     "ename": "ValueError",
     "evalue": "XU.maplog: only negativ or zero values given. Log is not defined!",
     "output_type": "error",
     "traceback": [
      "\u001b[1;31m---------------------------------------------------------------------------\u001b[0m",
      "\u001b[1;31mValueError\u001b[0m                                Traceback (most recent call last)",
      "\u001b[1;32m<ipython-input-2-2cc65ff72a05>\u001b[0m in \u001b[0;36m<module>\u001b[1;34m\u001b[0m\n\u001b[0;32m      3\u001b[0m \u001b[0mqPlot\u001b[0m \u001b[1;33m=\u001b[0m \u001b[0mrsmFile\u001b[0m\u001b[1;33m.\u001b[0m\u001b[0mplotQ\u001b[0m\u001b[1;33m(\u001b[0m \u001b[1;36m140\u001b[0m\u001b[1;33m,\u001b[0m \u001b[1;36m140\u001b[0m\u001b[1;33m,\u001b[0m \u001b[1;36m4\u001b[0m\u001b[1;33m,\u001b[0m \u001b[1;36m2\u001b[0m\u001b[1;33m,\u001b[0m \u001b[0mcmap\u001b[0m\u001b[1;33m=\u001b[0m\u001b[1;34m'rainbow'\u001b[0m \u001b[1;33m)\u001b[0m\u001b[1;33m\u001b[0m\u001b[1;33m\u001b[0m\u001b[0m\n\u001b[0;32m      4\u001b[0m \u001b[1;31m#qPlot.colorbar('intensity')\u001b[0m\u001b[1;33m\u001b[0m\u001b[1;33m\u001b[0m\u001b[1;33m\u001b[0m\u001b[0m\n\u001b[1;32m----> 5\u001b[1;33m \u001b[0mcl\u001b[0m \u001b[1;33m=\u001b[0m \u001b[0mplt\u001b[0m\u001b[1;33m.\u001b[0m\u001b[0mcontour\u001b[0m\u001b[1;33m(\u001b[0m\u001b[0mrsmFile\u001b[0m\u001b[1;33m.\u001b[0m\u001b[0mgridder\u001b[0m\u001b[1;33m.\u001b[0m\u001b[0mxaxis\u001b[0m\u001b[1;33m,\u001b[0m \u001b[0mrsmFile\u001b[0m\u001b[1;33m.\u001b[0m\u001b[0mgridder\u001b[0m\u001b[1;33m.\u001b[0m\u001b[0myaxis\u001b[0m\u001b[1;33m,\u001b[0m \u001b[0mxu\u001b[0m\u001b[1;33m.\u001b[0m\u001b[0mutilities\u001b[0m\u001b[1;33m.\u001b[0m\u001b[0mmaplog\u001b[0m\u001b[1;33m(\u001b[0m \u001b[0mxu\u001b[0m\u001b[1;33m.\u001b[0m\u001b[0mmath\u001b[0m\u001b[1;33m.\u001b[0m\u001b[0mGauss2d\u001b[0m\u001b[1;33m(\u001b[0m\u001b[0mrsmFile\u001b[0m\u001b[1;33m.\u001b[0m\u001b[0mgridder\u001b[0m\u001b[1;33m.\u001b[0m\u001b[0mxmatrix\u001b[0m\u001b[1;33m,\u001b[0m \u001b[0mrsmFile\u001b[0m\u001b[1;33m.\u001b[0m\u001b[0mgridder\u001b[0m\u001b[1;33m.\u001b[0m\u001b[0mymatrix\u001b[0m\u001b[1;33m,\u001b[0m \u001b[1;33m*\u001b[0m\u001b[0mrsmFile\u001b[0m\u001b[1;33m.\u001b[0m\u001b[0mp\u001b[0m\u001b[1;33m)\u001b[0m\u001b[1;33m,\u001b[0m \u001b[1;36m4\u001b[0m\u001b[1;33m,\u001b[0m \u001b[1;36m0\u001b[0m\u001b[1;33m)\u001b[0m\u001b[1;33m.\u001b[0m\u001b[0mT\u001b[0m\u001b[1;33m,\u001b[0m \u001b[1;36m8\u001b[0m\u001b[1;33m,\u001b[0m \u001b[0mcolors\u001b[0m\u001b[1;33m=\u001b[0m\u001b[1;34m'k'\u001b[0m\u001b[1;33m,\u001b[0m \u001b[0mlinestyles\u001b[0m\u001b[1;33m=\u001b[0m\u001b[1;34m'solid'\u001b[0m\u001b[1;33m)\u001b[0m\u001b[1;33m\u001b[0m\u001b[1;33m\u001b[0m\u001b[0m\n\u001b[0m",
      "\u001b[1;32m~\\Anaconda3\\lib\\site-packages\\xrayutilities\\utilities.py\u001b[0m in \u001b[0;36mmaplog\u001b[1;34m(inte, dynlow, dynhigh)\u001b[0m\n\u001b[0;32m     97\u001b[0m \u001b[1;33m\u001b[0m\u001b[0m\n\u001b[0;32m     98\u001b[0m     \u001b[1;32mif\u001b[0m \u001b[0minte\u001b[0m\u001b[1;33m.\u001b[0m\u001b[0mmax\u001b[0m\u001b[1;33m(\u001b[0m\u001b[1;33m)\u001b[0m \u001b[1;33m<=\u001b[0m \u001b[1;36m0.0\u001b[0m\u001b[1;33m:\u001b[0m\u001b[1;33m\u001b[0m\u001b[1;33m\u001b[0m\u001b[0m\n\u001b[1;32m---> 99\u001b[1;33m         raise ValueError(\"XU.maplog: only negativ or zero values given. \"\n\u001b[0m\u001b[0;32m    100\u001b[0m                          \"Log is not defined!\")\n\u001b[0;32m    101\u001b[0m     \u001b[0mma\u001b[0m \u001b[1;33m=\u001b[0m \u001b[0minte\u001b[0m\u001b[1;33m.\u001b[0m\u001b[0mmax\u001b[0m\u001b[1;33m(\u001b[0m\u001b[1;33m)\u001b[0m \u001b[1;33m*\u001b[0m \u001b[1;36m10\u001b[0m \u001b[1;33m**\u001b[0m \u001b[1;33m(\u001b[0m\u001b[1;33m-\u001b[0m\u001b[1;36m1\u001b[0m\u001b[1;33m*\u001b[0m\u001b[0mdynhigh\u001b[0m\u001b[1;33m)\u001b[0m  \u001b[1;31m# upper bound\u001b[0m\u001b[1;33m\u001b[0m\u001b[1;33m\u001b[0m\u001b[0m\n",
      "\u001b[1;31mValueError\u001b[0m: XU.maplog: only negativ or zero values given. Log is not defined!"
     ]
    },
    {
     "name": "stderr",
     "output_type": "stream",
     "text": [
      "C:\\Users\\olive\\Anaconda3\\lib\\site-packages\\matplotlib\\figure.py:2369: UserWarning: This figure includes Axes that are not compatible with tight_layout, so results might be incorrect.\n",
      "  warnings.warn(\"This figure includes Axes that are not compatible \"\n"
     ]
    },
    {
     "data": {
      "image/png": "[encoded data removed]",
      "text/plain": [
       "<Figure size 432x288 with 1 Axes>"
      ]
     },
     "metadata": {
      "needs_background": "light"
     },
     "output_type": "display_data"
    }
   ],
   "source": [
    "import matplotlib.pyplot as plt\n",
    "import xrayutilities as xu\n",
    "qPlot = rsmFile.plotQ( 140, 140, 4, 2, cmap='rainbow' )\n",
    "#qPlot.colorbar('intensity')\n",
    "cl = plt.contour(rsmFile.gridder.xaxis, rsmFile.gridder.yaxis, xu.utilities.maplog( xu.math.Gauss2d(rsmFile.gridder.xmatrix, rsmFile.gridder.ymatrix, *rsmFile.p), 4, 0).T, 8, colors='k', linestyles='solid')"
   ]
  },
  {
   "cell_type": "code",
   "execution_count": 4,
   "metadata": {
    "jupyter": {
     "source_hidden": true
    }
   },
   "outputs": [
    {
     "data": {
      "application/vnd.jupyter.widget-view+json": {
       "model_id": "",
       "version_major": 2,
       "version_minor": 0
      },
      "text/plain": [
       "Canvas(toolbar=Toolbar(toolitems=[('Home', 'Reset original view', 'home', 'home'), ('Back', 'Back to previous …"
      ]
     },
     "metadata": {},
     "output_type": "display_data"
    }
   ],
   "source": [
    "%matplotlib widget\n",
    "ax = (rsmFile.plot2d( cmap='rainbow' ))\n",
    "#ax2 = (rsmFile.plotQ(60,60))\n"
   ]
  },
  {
   "cell_type": "code",
   "execution_count": 3,
   "metadata": {
    "collapsed": true,
    "jupyter": {
     "outputs_hidden": true,
     "source_hidden": true
    }
   },
   "outputs": [
    {
     "name": "stdout",
     "output_type": "stream",
     "text": [
      "[37.9936, 41.9836, 61.0, 82.48]\n"
     ]
    },
    {
     "ename": "IndexError",
     "evalue": "boolean index did not match indexed array along dimension 0; dimension is 96078 but corresponding boolean dimension is 717",
     "output_type": "error",
     "traceback": [
      "\u001b[1;31m---------------------------------------------------------------------------\u001b[0m",
      "\u001b[1;31mIndexError\u001b[0m                                Traceback (most recent call last)",
      "\u001b[1;32m<ipython-input-3-b53d0ab5489b>\u001b[0m in \u001b[0;36m<module>\u001b[1;34m\u001b[0m\n\u001b[1;32m----> 1\u001b[1;33m \u001b[0mbcl\u001b[0m\u001b[1;33m,\u001b[0m \u001b[0mbparams\u001b[0m\u001b[1;33m,\u001b[0m \u001b[0mbcov\u001b[0m \u001b[1;33m=\u001b[0m \u001b[0mrsmFile\u001b[0m\u001b[1;33m.\u001b[0m\u001b[0mfit_zoom_peak\u001b[0m\u001b[1;33m(\u001b[0m\u001b[0max\u001b[0m\u001b[1;33m)\u001b[0m\u001b[1;33m\u001b[0m\u001b[1;33m\u001b[0m\u001b[0m\n\u001b[0m\u001b[0;32m      2\u001b[0m \u001b[0mprint\u001b[0m\u001b[1;33m(\u001b[0m\u001b[1;34m'Peak centre is at omega = '\u001b[0m \u001b[1;33m+\u001b[0m \u001b[0mstr\u001b[0m\u001b[1;33m(\u001b[0m\u001b[0mbparams\u001b[0m\u001b[1;33m[\u001b[0m\u001b[1;36m0\u001b[0m\u001b[1;33m]\u001b[0m\u001b[1;33m)\u001b[0m \u001b[1;33m+\u001b[0m \u001b[1;34m', 2theta = '\u001b[0m \u001b[1;33m+\u001b[0m \u001b[0mstr\u001b[0m\u001b[1;33m(\u001b[0m\u001b[0mbparams\u001b[0m\u001b[1;33m[\u001b[0m\u001b[1;36m1\u001b[0m\u001b[1;33m]\u001b[0m\u001b[1;33m)\u001b[0m \u001b[1;33m+\u001b[0m  \u001b[1;34m'. '\u001b[0m\u001b[1;33m)\u001b[0m\u001b[1;33m\u001b[0m\u001b[1;33m\u001b[0m\u001b[0m\n\u001b[0;32m      3\u001b[0m \u001b[0mprint\u001b[0m\u001b[1;33m(\u001b[0m\u001b[1;34m'Sigma_om = '\u001b[0m \u001b[1;33m+\u001b[0m \u001b[0mstr\u001b[0m\u001b[1;33m(\u001b[0m\u001b[0mbparams\u001b[0m\u001b[1;33m[\u001b[0m\u001b[1;36m2\u001b[0m\u001b[1;33m]\u001b[0m\u001b[1;33m)\u001b[0m \u001b[1;33m+\u001b[0m \u001b[1;34m', and Sigma_tt = '\u001b[0m \u001b[1;33m+\u001b[0m \u001b[0mstr\u001b[0m\u001b[1;33m(\u001b[0m\u001b[0mbparams\u001b[0m\u001b[1;33m[\u001b[0m\u001b[1;36m3\u001b[0m\u001b[1;33m]\u001b[0m\u001b[1;33m)\u001b[0m \u001b[1;33m+\u001b[0m \u001b[1;34m'. '\u001b[0m\u001b[1;33m)\u001b[0m\u001b[1;33m\u001b[0m\u001b[1;33m\u001b[0m\u001b[0m\n\u001b[0;32m      4\u001b[0m \u001b[1;33m\u001b[0m\u001b[0m\n",
      "\u001b[1;32m~\\OneDrive - UNSW\\code\\lattice\\lattice\\lattice.py\u001b[0m in \u001b[0;36mfit_zoom_peak\u001b[1;34m(self, angPlot, *kwargs)\u001b[0m\n\u001b[0;32m    350\u001b[0m         \u001b[0mprint\u001b[0m\u001b[1;33m(\u001b[0m\u001b[0mfitRange\u001b[0m\u001b[1;33m)\u001b[0m\u001b[1;33m\u001b[0m\u001b[1;33m\u001b[0m\u001b[0m\n\u001b[0;32m    351\u001b[0m \u001b[1;33m\u001b[0m\u001b[0m\n\u001b[1;32m--> 352\u001b[1;33m         \u001b[0mfitParams\u001b[0m\u001b[1;33m,\u001b[0m \u001b[0mcov\u001b[0m \u001b[1;33m=\u001b[0m \u001b[0mxu\u001b[0m\u001b[1;33m.\u001b[0m\u001b[0mmath\u001b[0m\u001b[1;33m.\u001b[0m\u001b[0mfit\u001b[0m\u001b[1;33m.\u001b[0m\u001b[0mfit_peak2d\u001b[0m\u001b[1;33m(\u001b[0m\u001b[0mself\u001b[0m\u001b[1;33m.\u001b[0m\u001b[0momega\u001b[0m\u001b[1;33m[\u001b[0m\u001b[1;33m:\u001b[0m\u001b[1;33m,\u001b[0m\u001b[1;36m0\u001b[0m\u001b[1;33m]\u001b[0m\u001b[1;33m,\u001b[0m \u001b[0mself\u001b[0m\u001b[1;33m.\u001b[0m\u001b[0mtt\u001b[0m\u001b[1;33m[\u001b[0m\u001b[1;33m:\u001b[0m\u001b[1;33m,\u001b[0m\u001b[1;36m0\u001b[0m\u001b[1;33m]\u001b[0m\u001b[1;33m,\u001b[0m \u001b[0mself\u001b[0m\u001b[1;33m.\u001b[0m\u001b[0mdata\u001b[0m\u001b[1;33m,\u001b[0m \u001b[0mself\u001b[0m\u001b[1;33m.\u001b[0m\u001b[0mp\u001b[0m\u001b[1;33m,\u001b[0m \u001b[0mfitRange\u001b[0m\u001b[1;33m,\u001b[0m \u001b[0mxu\u001b[0m\u001b[1;33m.\u001b[0m\u001b[0mmath\u001b[0m\u001b[1;33m.\u001b[0m\u001b[0mGauss2d\u001b[0m\u001b[1;33m)\u001b[0m\u001b[1;33m\u001b[0m\u001b[1;33m\u001b[0m\u001b[0m\n\u001b[0m\u001b[0;32m    353\u001b[0m \u001b[1;33m\u001b[0m\u001b[0m\n\u001b[0;32m    354\u001b[0m         cl = angPlot.contour(self.omega[0,xminInd:xmaxInd], self.tt[yminInd:ymaxInd,0], \\\n",
      "\u001b[1;32m~\\Anaconda3\\lib\\site-packages\\xrayutilities\\math\\fit.py\u001b[0m in \u001b[0;36mfit_peak2d\u001b[1;34m(x, y, data, start, drange, fit_function, maxfev)\u001b[0m\n\u001b[0;32m    422\u001b[0m     \u001b[0mly\u001b[0m \u001b[1;33m=\u001b[0m \u001b[0mly\u001b[0m\u001b[1;33m[\u001b[0m\u001b[0mmask\u001b[0m\u001b[1;33m]\u001b[0m\u001b[1;33m\u001b[0m\u001b[1;33m\u001b[0m\u001b[0m\n\u001b[0;32m    423\u001b[0m     \u001b[0mlx\u001b[0m \u001b[1;33m=\u001b[0m \u001b[0mlx\u001b[0m\u001b[1;33m[\u001b[0m\u001b[0mmask\u001b[0m\u001b[1;33m]\u001b[0m\u001b[1;33m\u001b[0m\u001b[1;33m\u001b[0m\u001b[0m\n\u001b[1;32m--> 424\u001b[1;33m     \u001b[0mldata\u001b[0m \u001b[1;33m=\u001b[0m \u001b[0mdata\u001b[0m\u001b[1;33m.\u001b[0m\u001b[0mflatten\u001b[0m\u001b[1;33m(\u001b[0m\u001b[1;33m)\u001b[0m\u001b[1;33m[\u001b[0m\u001b[0mmask\u001b[0m\u001b[1;33m]\u001b[0m\u001b[1;33m\u001b[0m\u001b[1;33m\u001b[0m\u001b[0m\n\u001b[0m\u001b[0;32m    425\u001b[0m \u001b[1;33m\u001b[0m\u001b[0m\n\u001b[0;32m    426\u001b[0m     \u001b[1;32mdef\u001b[0m \u001b[0merrfunc\u001b[0m\u001b[1;33m(\u001b[0m\u001b[0mp\u001b[0m\u001b[1;33m,\u001b[0m \u001b[0mx\u001b[0m\u001b[1;33m,\u001b[0m \u001b[0mz\u001b[0m\u001b[1;33m,\u001b[0m \u001b[0mdata\u001b[0m\u001b[1;33m)\u001b[0m\u001b[1;33m:\u001b[0m\u001b[1;33m\u001b[0m\u001b[1;33m\u001b[0m\u001b[0m\n",
      "\u001b[1;31mIndexError\u001b[0m: boolean index did not match indexed array along dimension 0; dimension is 96078 but corresponding boolean dimension is 717"
     ]
    }
   ],
   "source": [
    "bcl, bparams, bcov = rsmFile.fit_zoom_peak(ax)\n",
    "print('Peak centre is at omega = ' + str(bparams[0]) + ', 2theta = ' + str(bparams[1]) +  '. ')\n",
    "print('Sigma_om = ' + str(bparams[2]) + ', and Sigma_tt = ' + str(bparams[3]) + '. ')\n",
    "\n"
   ]
  },
  {
   "cell_type": "code",
   "execution_count": 46,
   "metadata": {},
   "outputs": [
    {
     "data": {
      "application/vnd.jupyter.widget-view+json": {
       "model_id": "71b524c4a0cf493884f840b49a9ffc2f",
       "version_major": 2,
       "version_minor": 0
      },
      "text/plain": [
       "Canvas(toolbar=Toolbar(toolitems=[('Home', 'Reset original view', 'home', 'home'), ('Back', 'Back to previous …"
      ]
     },
     "metadata": {},
     "output_type": "display_data"
    }
   ],
   "source": [
    "%matplotlib widget\n",
    "\n",
    "fig, ax = plt.subplots( )\n",
    "#plt.figure(figsize=(1,1))\n",
    "fig, ax = map1.plotQ(100, 100, 3.8, 2.5, nlev=100, fig=fig, ax=ax, cmap=newcmp)\n",
    "#fig.set_size_inches(1, 3, forward=True)\n",
    "ax.set_title(map1.filename)\n",
    "ax.set_aspect(1)\n",
    "#fig.set_dpi(200)\n",
    "#plt.savefig('figure.png', bbox_inches='tight')\n",
    "##fig1.tight_layout()\n",
    "#plt.subplots_adjust(left=0.1, right=0.9, top=0.9, bottom=0.1)\n",
    "#b.set_xlim(-0.11,0.11)\n",
    "#b.set_ylim(4.18, 5.35)\n",
    "\n",
    "#ax.set_adjustable('box-forced')\n",
    "\n",
    "#for maps in plt.colormaps():\n",
    "#    b = rsmFile.plotQ(60, 60, 2.8, 2, cmap=maps)\n",
    "#    plt.show()\n"
   ]
  },
  {
   "cell_type": "code",
   "execution_count": 38,
   "metadata": {},
   "outputs": [
    {
     "name": "stdout",
     "output_type": "stream",
     "text": [
      "[-0.11880320884287207, 0.12725523208065692, 4.869113450994323, 5.107102959392349]\n",
      "------------- DEBUGGING -----------\n",
      "QxGrid size = (19, 65)\n",
      "QzGrid size = (19, 65)\n",
      "cropData size = (19, 65)\n",
      "fit params = [-2.54909426e-02  4.97516150e+00  2.58854448e-02  4.32811312e-02\n",
      "  4.18977047e+00  6.60027358e-01  6.68406921e+05]\n",
      "Peak centre is at Qx = -0.0254909426043463, Qz = 4.975161499700478. \n",
      "Sigma_om = 0.025885444792993914, and Sigma_tt = 0.04328113123299612. \n"
     ]
    }
   ],
   "source": [
    "bcl, bparams, bcov = rsmFile.fit_zoom_Qpeak(b)\n",
    "\n",
    "print('Peak centre is at Qx = ' + str(bparams[0]) + ', Qz = ' + str(bparams[1]) +  '. ')\n",
    "print('Sigma_om = ' + str(bparams[2]) + ', and Sigma_tt = ' + str(bparams[3]) + '. ')\n",
    "bparams[2] = abs(bparams[2])\n",
    "bparams[3] = abs(bparams[3])"
   ]
  },
  {
   "cell_type": "code",
   "execution_count": 40,
   "metadata": {},
   "outputs": [
    {
     "name": "stdout",
     "output_type": "stream",
     "text": [
      "[-2.54909426e-02  4.97516150e+00  2.58854448e-02  4.32811312e-02\n",
      "  4.18977047e+00  6.60027358e-01  6.68406921e+05]\n",
      "0.02949336564959637\n"
     ]
    }
   ],
   "source": [
    "#from scipy.integrate import dblquad\n",
    "print(str(bparams))\n",
    "print(xu.math.functions.Gauss2dArea( *bparams ))\n",
    "\n",
    "#f = xu.math.Gauss2d( bparams )\n",
    "#dblquad(f, - np.inf, np.inf, - np.inf, np.inf)"
   ]
  },
  {
   "cell_type": "code",
   "execution_count": 22,
   "metadata": {},
   "outputs": [
    {
     "name": "stdout",
     "output_type": "stream",
     "text": [
      "5.144680250192037\n",
      "[-0.08094806408540607, 0.06668700046871132, 5.144680250192037, 5.345092467790374]\n",
      "0.002333254381019112\n",
      "5.244886358991205\n",
      "------------- DEBUGGING -----------\n",
      "QxGrid size = (16, 39)\n",
      "QzGrid size = (16, 39)\n",
      "cropData size = (16, 39)\n",
      "fit params = [-1.39318861e+00  1.04196270e+01 -3.18176077e+01 -2.07671906e+01\n",
      "  9.66888269e+01  5.00031166e+01 -4.87693904e+07]\n"
     ]
    }
   ],
   "source": [
    "import numpy as np\n",
    "yminInd =  ( np.abs(rsmFile.gridder.yaxis[:] - b.get_ylim()[0]) ).argmin()\n",
    "ymaxInd =  ( np.abs(rsmFile.gridder.yaxis[:] - b.get_ylim()[1]) ).argmin()\n",
    "xminInd =  ( np.abs(rsmFile.gridder.xaxis[:] - b.get_xlim()[0]) ).argmin()\n",
    "xmaxInd =  ( np.abs(rsmFile.gridder.xaxis[:] - b.get_xlim()[1]) ).argmin() \n",
    "cropQx = rsmFile.gridder.xaxis[xminInd:xmaxInd]\n",
    "cropQz = rsmFile.gridder.yaxis[yminInd:ymaxInd]\n",
    "print(cropQz.min())\n",
    "\n",
    "fitRange = [rsmFile.gridder.xaxis[xminInd], rsmFile.gridder.xaxis[xmaxInd], rsmFile.gridder.yaxis[yminInd], rsmFile.gridder.yaxis[ymaxInd]]\n",
    "print(fitRange)\n",
    "#tupleIndex = np.unravel_index(np.argmax(self.gridder.data[yminInd:ymaxInd, xminInd:xmaxInd].flatten()), \\\n",
    "#             (len(self.gridder.data[yminInd:ymaxInd]), len(self.gridder.data[0, xminInd:xmaxInd])))\n",
    "tupleIndex = np.unravel_index(np.argmax(rsmFile.gridder.data[xminInd:xmaxInd,yminInd:ymaxInd].flatten()), \\\n",
    "             (len(rsmFile.gridder.data[xminInd:xmaxInd, 0]), len(rsmFile.gridder.data[0,yminInd:ymaxInd])))\n",
    "\n",
    "\n",
    "cropData = rsmFile.gridder.data[yminInd:ymaxInd, xminInd:xmaxInd]\n",
    "#cropData = self.gridder.data[yminInd:ymaxInd, xminInd:xmaxInd]\n",
    "cropQxGrid, cropQzGrid = np.meshgrid(cropQx, cropQz)\n",
    "\n",
    "#xC = cropQxGrid[tupleIndex[0], tupleIndex[1]]\n",
    "#yC = cropQzGrid[tupleIndex[0], tupleIndex[1]]\n",
    "xC = cropQx[tupleIndex[0]]\n",
    "yC = cropQz[tupleIndex[1]]\n",
    "print(xC)\n",
    "print(yC)\n",
    "amp = rsmFile.gridder.data[tupleIndex]\n",
    "\n",
    "xSigma = 0.1\n",
    "ySigma = 0.1\n",
    "angle = 0\n",
    "background = 1\n",
    "rsmFile.p = [xC, yC, xSigma, ySigma, amp, background, angle]\n",
    "#print(rsmFile.gridder.xaxis.size)\n",
    "\n",
    "xGrid, yGrid = np.meshgrid(rsmFile.gridder.xaxis, rsmFile.gridder.yaxis)\n",
    "\n",
    "fitParams, cov = xu.math.fit.fit_peak2d(xGrid, yGrid, rsmFile.gridder.data.T, rsmFile.p, fitRange, xu.math.Gauss2d)\n",
    "\n",
    "print('------------- DEBUGGING -----------')\n",
    "print('QxGrid size = ' + str(cropQxGrid.shape))\n",
    "print('QzGrid size = ' + str(cropQzGrid.shape))\n",
    "print('cropData size = ' + str(cropData.shape))\n",
    "print('fit params = ' + str(fitParams))\n",
    "cl = b.contour( rsmFile.gridder.xaxis, rsmFile.gridder.yaxis, \\\n",
    "         np.log10(xu.math.Gauss2d( xGrid, \\\n",
    "         yGrid, *fitParams)), 8, colors='k', linestyles='solid')"
   ]
  },
  {
   "cell_type": "markdown",
   "metadata": {},
   "source": [
    "##### '''Get Omega rocking curve from RSM'''"
   ]
  },
  {
   "cell_type": "code",
   "execution_count": 84,
   "metadata": {},
   "outputs": [
    {
     "data": {
      "application/vnd.jupyter.widget-view+json": {
       "model_id": "cf77c20cb4ab4747b85e629a26821c47",
       "version_major": 2,
       "version_minor": 0
      },
      "text/plain": [
       "FigureCanvasNbAgg()"
      ]
     },
     "metadata": {},
     "output_type": "display_data"
    },
    {
     "name": "stdout",
     "output_type": "stream",
     "text": [
      "FWHM = 0.463223128534068\n"
     ]
    }
   ],
   "source": [
    "om, omint, mask = xu.analysis.get_omega_scan([rsmFile.qy, rsmFile.qz], \\\n",
    "                                             rsmFile.data, [0, 4.3], 110, intrange=0.2, intdir='radial')\n",
    "\n",
    "\n",
    "fig2, ax2 = plt.subplots()\n",
    "ax2.plot(om, omint, label = 'RSM omega cut')\n",
    "\n",
    "\n",
    "params, sd_params, itlim = xu.math.fit.gauss_fit(om, omint, iparams=[], maxit=300)\n",
    "\n",
    "ax2.plot(om, xu.math.Gauss1d(om, *params), label='Gaussian fit')\n",
    "ax2.legend()\n",
    "ax2.set_xlabel('Omega (degrees)')\n",
    "ax2.set_ylabel('intensity (a.u.)')\n",
    "fwhm = xu.math.fit.fwhm_exp(om, xu.math.Gauss1d(om, *params))\n",
    "print('FWHM = ' + str(fwhm))\n",
    "\n"
   ]
  },
  {
   "cell_type": "markdown",
   "metadata": {},
   "source": [
    "angPlot = rsmFile.plot2d()"
   ]
  },
  {
   "cell_type": "code",
   "execution_count": null,
   "metadata": {},
   "outputs": [],
   "source": [
    "qCentre = rsmFile.hxrd.Ang2Q( (bparams[0] - rsmFile.delta[0]), (bparams[1] - rsmFile.delta[1]) )\n",
    "qSigma = rsmFile.hxrd.Ang2Q( bparams[2], bparams[3])\n",
    "\n",
    "cl = b.contour(self.omega[0,xminInd:xmaxInd], self.tt[yminInd:ymaxInd,0], \\\n",
    "                 np.log10(xu.math.Gauss2d(self.omega[yminInd:ymaxInd, xminInd:xmaxInd], \\\n",
    "                 self.tt[yminInd:ymaxInd,xminInd:xmaxInd], *fitParams)), 8, colors='k', linestyles='solid')"
   ]
  },
  {
   "cell_type": "code",
   "execution_count": null,
   "metadata": {},
   "outputs": [],
   "source": [
    "#import numpy as np\n",
    "xminInd = (np.abs(rsmFile.omega - angPlot.get_xlim()[0])).argmin()\n",
    "xmaxInd = (np.abs(rsmFile.omega - angPlot.get_xlim()[1])).argmin()\n",
    "yminInd = (np.abs(rsmFile.tt[:,0] - angPlot.get_ylim()[0])).argmin()\n",
    "ymaxInd = (np.abs(rsmFile.tt[:,0] - angPlot.get_ylim()[1])).argmin()\n",
    "#tupleIndex = np.array(dims=2)\n",
    "tupleIndex = np.unravel_index(np.argmax(rsmFile.data[yminInd:ymaxInd][xminInd:xmaxInd].flatten()), (len(rsmFile.data[xminInd:xmaxInd][0]), len(rsmFile.data[0][yminInd:ymaxInd])))\n",
    "#tupleIndex = np.unravel_index( indexMax, (len(rsmFile.gridder.data[:,0]), len(rsmFile.gridder.data[0,:])) )\n",
    "fitRange = [rsmFile.data[xminInd], rsmFile.data[xmaxInd], rsmFile.data[yminInd], rsmFile.data[ymaxInd]]\n",
    "\n",
    "\n",
    "#cropX, cropY = np.meshgrid(cropX, cropY)\n",
    "#xC = rsmFile.omega[tupleIndex[0]]\n",
    "#yC = rsmFile.tt[tupleIndex[1]]\n",
    "xSigma = 0.1\n",
    "ySigma = 0.1\n",
    "amp = rsmFile.data[tupleIndex]\n",
    "angle = 0\n",
    "background = 1\n",
    "#p = [xC, yC, xSigma, ySigma, amp, background, angle]\n",
    "bfoQy = 0\n",
    "bfoQz = 4.440\n",
    "#params = [bfoQy, bfoQz, 0.01, 0.01, rsmFile.data[xminInd:xmaxInd, yminInd:ymaxInd].max(), 0, 0.]\n",
    "#gaussFit = xu.fitpeak2d(cropX.flatten(), cropY.flatten(), cropData.flatten(), p, drange=[cropX[0], cropX[-1], cropY[0], cropY[-1]], xu.math.functions.Gauss2d(cropX, cropY,))\n",
    "\n",
    "#fitParams, cov = xu.math.fit.fit_peak2d(rsmFile.qy.flatten(), rsmFile.qz.flatten(), \\\n",
    "#                                        rsmFile.data.flatten(), params, fitRange, xu.math.Gauss2d)\n"
   ]
  },
  {
   "cell_type": "code",
   "execution_count": null,
   "metadata": {},
   "outputs": [],
   "source": [
    "gaussFit = xu.math.functions.Gauss2d(rsmFile.gridder.xdata, rsmFile.gridder.ydata, *p)\n",
    "fitParams, cov = xu.math.fit.fit_peak2d(rsmFile.gridder.xdata[xminInd:xmaxInd], rsmFile.gridder.ydata[yminInd:ymaxInd], cropData, p, drange=[34, 35, 67, 69], gaussFit)"
   ]
  },
  {
   "cell_type": "code",
   "execution_count": null,
   "metadata": {},
   "outputs": [],
   "source": [
    "i = rsmFile.find_nearest(rsmFile.gridder.xaxis, qPlot.get_xlim()[0] )"
   ]
  },
  {
   "cell_type": "code",
   "execution_count": null,
   "metadata": {},
   "outputs": [],
   "source": [
    "yminInd =  ( np.abs(rsmFile.tt[:,0] - angPlot.get_ylim()[0]) ).argmin()\n",
    "ymaxInd =  ( np.abs(rsmFile.tt[:,0] - angPlot.get_ylim()[1]) ).argmin()\n",
    "xminInd =  ( np.abs(rsmFile.omega[0, :] - angPlot.get_xlim()[0]) ).argmin()\n",
    "xmaxInd =  ( np.abs(rsmFile.omega[0, :] - angPlot.get_xlim()[1]) ).argmin() \n",
    "#xminInd = np.unravel_index((np.asarray(rsmFile.omega) - angPlot.get_xlim()[0]), (len(rsmFile.omega[:][0]), len(rsmFile.omega[0][:])))\n",
    "\n",
    "tfig, tax = plt.subplots(2)\n",
    "cl = tax[0].contour(rsmFile.omega[0,xminInd:xmaxInd], rsmFile.tt[yminInd:ymaxInd,0], \\\n",
    "                 np.log10(xu.math.Gauss2d(rsmFile.omega[yminInd:ymaxInd, xminInd:xmaxInd], \\\n",
    "                 rsmFile.tt[yminInd:ymaxInd,xminInd:xmaxInd], *fitParams)), 8, colors='k', linestyles='solid')\n",
    "p1 = tax[0].contourf( rsmFile.omega[0,xminInd:xmaxInd], rsmFile.tt[yminInd:ymaxInd,0], np.log10(rsmFile.data[yminInd:ymaxInd, xminInd:xmaxInd]) )\n",
    "\n",
    "p2 = tax[1].contourf(rsmFile.omega[0,:], rsmFile.tt[:,0], np.log10(rsmFile.data))"
   ]
  },
  {
   "cell_type": "code",
   "execution_count": null,
   "metadata": {},
   "outputs": [],
   "source": []
  }
 ],
 "metadata": {
  "kernelspec": {
   "display_name": "Python 3",
   "language": "python",
   "name": "python3"
  },
  "language_info": {
   "codemirror_mode": {
    "name": "ipython",
    "version": 3
   },
   "file_extension": ".py",
   "mimetype": "text/x-python",
   "name": "python",
   "nbconvert_exporter": "python",
   "pygments_lexer": "ipython3",
   "version": "3.7.4"
  }
 },
 "nbformat": 4,
 "nbformat_minor": 4
}

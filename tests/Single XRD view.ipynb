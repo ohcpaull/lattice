{
 "cells": [
  {
   "cell_type": "markdown",
   "metadata": {},
   "source": [
    "# XRR & XRD Plotting\n",
    "## This program plots XRR and XRD in separate plots, and puts an insert into the XRR of the XRD (002) peak"
   ]
  },
  {
   "cell_type": "code",
   "execution_count": 2,
   "metadata": {},
   "outputs": [],
   "source": [
    "import lattice\n",
    "import xrayutilities as xu\n",
    "import matplotlib.pyplot as plt\n",
    "import matplotlib as mpl\n",
    "from matplotlib import cm, rcParams, gridspec\n",
    "from matplotlib.colors import ListedColormap, LinearSegmentedColormap\n",
    "import matplotlib.ticker as ticker\n",
    "import numpy as np\n",
    "import os\n",
    "\n",
    "rcParams.update({'figure.autolayout': True})\n",
    "\n",
    "# plot settings for matplotlib\n",
    "mpl.rcParams['font.family'] = 'Arial'\n",
    "mpl.rcParams['font.size'] = 10.0\n",
    "mpl.rcParams['axes.labelsize'] = 'medium'\n",
    "mpl.rcParams['figure.subplot.bottom'] = 0.16\n",
    "mpl.rcParams['figure.subplot.left'] = 0.17\n",
    "mpl.rcParams['savefig.dpi'] = 200\n",
    "mpl.rcParams['axes.grid'] = False"
   ]
  },
  {
   "cell_type": "code",
   "execution_count": 6,
   "metadata": {},
   "outputs": [
    {
     "data": {
      "application/vnd.jupyter.widget-view+json": {
       "model_id": "dd289ec5b8fd45be814c3c2e2fa57368",
       "version_major": 2,
       "version_minor": 0
      },
      "text/plain": [
       "Canvas(toolbar=Toolbar(toolitems=[('Home', 'Reset original view', 'home', 'home'), ('Back', 'Back to previous …"
      ]
     },
     "metadata": {},
     "output_type": "display_data"
    },
    {
     "ename": "TypeError",
     "evalue": "'module' object is not callable",
     "output_type": "error",
     "traceback": [
      "\u001b[1;31m---------------------------------------------------------------------------\u001b[0m",
      "\u001b[1;31mTypeError\u001b[0m                                 Traceback (most recent call last)",
      "\u001b[1;32m<ipython-input-6-850a5cfb8ab8>\u001b[0m in \u001b[0;36m<module>\u001b[1;34m\u001b[0m\n\u001b[0;32m     11\u001b[0m \u001b[1;33m\u001b[0m\u001b[0m\n\u001b[0;32m     12\u001b[0m \u001b[1;31m#ax1, dat1 = xu.io.getras_scan(xrdFile.filename+'%s', '', xrdFile.scans.scan_axis)\u001b[0m\u001b[1;33m\u001b[0m\u001b[1;33m\u001b[0m\u001b[1;33m\u001b[0m\u001b[0m\n\u001b[1;32m---> 13\u001b[1;33m \u001b[0mscatter\u001b[0m \u001b[1;33m=\u001b[0m \u001b[0mlattice\u001b[0m\u001b[1;33m(\u001b[0m\u001b[1;33m)\u001b[0m\u001b[1;33m\u001b[0m\u001b[1;33m\u001b[0m\u001b[0m\n\u001b[0m\u001b[0;32m     14\u001b[0m \u001b[0mom\u001b[0m\u001b[1;33m,\u001b[0m \u001b[0max1\u001b[0m\u001b[1;33m,\u001b[0m \u001b[0mdat1\u001b[0m \u001b[1;33m=\u001b[0m \u001b[0mlattice\u001b[0m\u001b[1;33m.\u001b[0m\u001b[0mxrdml_file\u001b[0m\u001b[1;33m(\u001b[0m \u001b[0mfxrd\u001b[0m \u001b[1;33m)\u001b[0m\u001b[1;33m\u001b[0m\u001b[1;33m\u001b[0m\u001b[0m\n\u001b[0;32m     15\u001b[0m \u001b[1;33m\u001b[0m\u001b[0m\n",
      "\u001b[1;31mTypeError\u001b[0m: 'module' object is not callable"
     ]
    }
   ],
   "source": [
    "fxrd = r'C:\\Users\\olive\\UNSW\\Daniel Sando - Samples_Ralph_Dan\\2017\\DS17113_BFO_STO_110\\DS17113_2theta.xrdml'\n",
    "\n",
    "\n",
    "%matplotlib widget\n",
    "fig, ax = plt.subplots( figsize=(1,1) )\n",
    "#ax.axis('off')\n",
    "#gs = gridspec.GridSpec(nrows=2, ncols=2)\n",
    "\n",
    "\n",
    "#xrdFile = ( xu.io.rigaku_ras.RASFile(fxrd) )\n",
    "\n",
    "#ax1, dat1 = xu.io.getras_scan(xrdFile.filename+'%s', '', xrdFile.scans.scan_axis)\n",
    "scatter = lattice()\n",
    "om, ax1, dat1 = lattice.xrdml_file( fxrd )\n",
    "\n",
    "#f2 = xrdFile.filename.rfind('\\\\')\n",
    "\n",
    "#ax = fig.add_subplot( gs[:,:] ) \n",
    "ax.plot(dat1['TwoThetaOmega'], dat1['int']*dat1['att'], label='Data', color = 'black')\n",
    "ax.set_xlabel( '2Theta (degrees)')\n",
    "ax.set_ylabel( 'Intensity (a.u.)')\n",
    "ax.set_yscale('log')\n",
    "ax.set_xlim(15, 115)\n",
    "#ax.set_title( xrdFile.filename[f2+1:-1 -3 ] )\n",
    "\n",
    "\n",
    "\n",
    "\n"
   ]
  },
  {
   "cell_type": "markdown",
   "metadata": {},
   "source": [
    "# Add code to get thickness out of XRR oscillations"
   ]
  },
  {
   "cell_type": "code",
   "execution_count": 34,
   "metadata": {},
   "outputs": [
    {
     "data": {
      "application/vnd.jupyter.widget-view+json": {
       "model_id": "0a43b2b609df45e29ad7e84e53081e02",
       "version_major": 2,
       "version_minor": 0
      },
      "text/plain": [
       "Canvas(toolbar=Toolbar(toolitems=[('Home', 'Reset original view', 'home', 'home'), ('Back', 'Back to previous …"
      ]
     },
     "metadata": {},
     "output_type": "display_data"
    },
    {
     "data": {
      "text/plain": [
       "Text(0.5, 0, 'Q (A-1)')"
      ]
     },
     "execution_count": 34,
     "metadata": {},
     "output_type": "execute_result"
    }
   ],
   "source": [
    "x = dat0['TwoThetaOmega']\n",
    "q = 4 * np.pi/1.54 * np.sin(np.radians(x[100:]/2))\n",
    "y = dat0['int'][100:]*dat0['att'][100:]\n",
    "\n",
    "fig, ax = plt.subplots()\n",
    "ax.plot(q, y)\n",
    "ax.set_xlim(0.03,0.4)\n",
    "ax.set_yscale('log')\n",
    "ax.set_ylabel('Intensity (a.u.)')\n",
    "ax.set_xlabel('Q (A-1)')\n"
   ]
  },
  {
   "cell_type": "code",
   "execution_count": 24,
   "metadata": {},
   "outputs": [],
   "source": []
  },
  {
   "cell_type": "code",
   "execution_count": 82,
   "metadata": {},
   "outputs": [],
   "source": [
    "x = dat0['TwoThetaOmega']\n",
    "q = 4 * np.pi/1.54 * np.sin(np.radians(x[100:]/2))\n",
    "#q = [val for val in q if val > 0.05 and val < 0.3]\n",
    "y = np.log10( dat0['int'][100:]*dat0['att'][100:] )\n",
    "\n"
   ]
  },
  {
   "cell_type": "code",
   "execution_count": 76,
   "metadata": {},
   "outputs": [
    {
     "data": {
      "text/plain": [
       "[<matplotlib.lines.Line2D at 0x1eeeae0d648>]"
      ]
     },
     "execution_count": 76,
     "metadata": {},
     "output_type": "execute_result"
    }
   ],
   "source": [
    "plt.plot(q, y)"
   ]
  },
  {
   "cell_type": "code",
   "execution_count": 114,
   "metadata": {},
   "outputs": [
    {
     "name": "stdout",
     "output_type": "stream",
     "text": [
      "7024\n",
      "15001\n"
     ]
    }
   ],
   "source": [
    "x = dat0['TwoThetaOmega']\n",
    "q = 4 * np.pi/1.54 * np.sin(np.radians(x/2))\n",
    "q = [val for val in q if val > 0.1 and val < 0.3]\n",
    "y = np.log10( dat0['int']*dat0['att'] )\n",
    "#y = [val if b in q < for val in y if b fo]\n",
    "\n",
    "yt = [ i  for i in y if ( (x > 0.1 and x < 0.3) for x in q)  ]\n",
    "\n",
    "N = int(len(q)/2)\n",
    "T = q[1] - q[0]\n",
    "d = 2* np.pi / np.array(q)\n",
    "xf = np.linspace(0, 1 /(2.0*T), N//2)\n",
    "yf = 2.0/ N * np.abs(fft(np.log10(y[0:N//2])))\n",
    "\n",
    "print(len(q))\n",
    "print(len(yt))\n",
    "#fig, ax = plt.subplots()\n",
    "#ax.plot(d, yf )\n",
    "#ax.set_yscale('log')\n",
    "#2.0/N * np.abs(yf[0:N//2])"
   ]
  },
  {
   "cell_type": "code",
   "execution_count": 28,
   "metadata": {},
   "outputs": [
    {
     "data": {
      "text/plain": [
       "15001"
      ]
     },
     "execution_count": 28,
     "metadata": {},
     "output_type": "execute_result"
    }
   ],
   "source": [
    "len(x)"
   ]
  },
  {
   "cell_type": "code",
   "execution_count": 29,
   "metadata": {},
   "outputs": [
    {
     "data": {
      "text/plain": [
       "15001"
      ]
     },
     "execution_count": 29,
     "metadata": {},
     "output_type": "execute_result"
    }
   ],
   "source": [
    "len(y)"
   ]
  },
  {
   "cell_type": "code",
   "execution_count": 31,
   "metadata": {},
   "outputs": [
    {
     "data": {
      "text/plain": [
       "0.04"
      ]
     },
     "execution_count": 31,
     "metadata": {},
     "output_type": "execute_result"
    }
   ],
   "source": [
    "x[0]"
   ]
  },
  {
   "cell_type": "code",
   "execution_count": 27,
   "metadata": {},
   "outputs": [
    {
     "data": {
      "application/vnd.jupyter.widget-view+json": {
       "model_id": "03e4bf63ccd945b4bce80b6ebf5583d5",
       "version_major": 2,
       "version_minor": 0
      },
      "text/plain": [
       "Canvas(toolbar=Toolbar(toolitems=[('Home', 'Reset original view', 'home', 'home'), ('Back', 'Back to previous …"
      ]
     },
     "metadata": {},
     "output_type": "display_data"
    },
    {
     "name": "stderr",
     "output_type": "stream",
     "text": [
      "C:\\Users\\olive\\Anaconda3\\lib\\site-packages\\numpy\\core\\numeric.py:538: ComplexWarning: Casting complex values to real discards the imaginary part\n",
      "  return array(a, dtype, copy=False, order=order)\n"
     ]
    },
    {
     "data": {
      "text/plain": [
       "[<matplotlib.lines.Line2D at 0x1eedef37388>]"
      ]
     },
     "execution_count": 27,
     "metadata": {},
     "output_type": "execute_result"
    }
   ],
   "source": [
    "fig, ax = plt.subplots()\n",
    "ax.plot(fft_y)\n",
    "#ax.set_xlim(0.03,1000)\n",
    "#ax.set_yscale('log')\n",
    "#ax.set_ylabel('Intensity (a.u.)')\n",
    "#ax.set_xlabel('Q (A-1)')\n"
   ]
  },
  {
   "cell_type": "code",
   "execution_count": null,
   "metadata": {},
   "outputs": [],
   "source": []
  }
 ],
 "metadata": {
  "kernelspec": {
   "display_name": "Python 3",
   "language": "python",
   "name": "python3"
  },
  "language_info": {
   "codemirror_mode": {
    "name": "ipython",
    "version": 3
   },
   "file_extension": ".py",
   "mimetype": "text/x-python",
   "name": "python",
   "nbconvert_exporter": "python",
   "pygments_lexer": "ipython3",
   "version": "3.7.4"
  }
 },
 "nbformat": 4,
 "nbformat_minor": 4
}

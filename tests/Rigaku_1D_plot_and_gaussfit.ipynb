{
 "cells": [
  {
   "cell_type": "code",
   "execution_count": 7,
   "metadata": {},
   "outputs": [
    {
     "name": "stderr",
     "output_type": "stream",
     "text": [
      "File \"C:\\OneDrive - UNSW\\Experiments 2019\\Xray\\VG180301\\VG180301_BFO_001_rocking_curve.ras\" does not exist.\n"
     ]
    },
    {
     "ename": "ValueError",
     "evalue": "This is not a valid filename.",
     "output_type": "error",
     "traceback": [
      "\u001b[1;31m---------------------------------------------------------------------------\u001b[0m",
      "\u001b[1;31mValueError\u001b[0m                                Traceback (most recent call last)",
      "\u001b[1;32m<ipython-input-7-cd15a54cf9ed>\u001b[0m in \u001b[0;36m<module>\u001b[1;34m\u001b[0m\n\u001b[0;32m      3\u001b[0m \u001b[0mfpath\u001b[0m \u001b[1;33m=\u001b[0m \u001b[1;34mr'C:\\OneDrive - UNSW\\Experiments 2019\\Xray\\VG180301\\VG180301_BFO_001_rocking_curve.ras'\u001b[0m\u001b[1;33m\u001b[0m\u001b[1;33m\u001b[0m\u001b[0m\n\u001b[0;32m      4\u001b[0m \u001b[1;33m\u001b[0m\u001b[0m\n\u001b[1;32m----> 5\u001b[1;33m \u001b[0mdata\u001b[0m \u001b[1;33m=\u001b[0m \u001b[0mxrdtools\u001b[0m\u001b[1;33m.\u001b[0m\u001b[0mread_xrdml\u001b[0m\u001b[1;33m(\u001b[0m\u001b[0mfpath\u001b[0m\u001b[1;33m)\u001b[0m\u001b[1;33m\u001b[0m\u001b[1;33m\u001b[0m\u001b[0m\n\u001b[0m",
      "\u001b[1;32m~\\Anaconda3\\lib\\site-packages\\xrdtools\\io.py\u001b[0m in \u001b[0;36mread_xrdml\u001b[1;34m(filename)\u001b[0m\n\u001b[0;32m    294\u001b[0m     \u001b[1;32mif\u001b[0m \u001b[1;32mnot\u001b[0m \u001b[0mos\u001b[0m\u001b[1;33m.\u001b[0m\u001b[0mpath\u001b[0m\u001b[1;33m.\u001b[0m\u001b[0mexists\u001b[0m\u001b[1;33m(\u001b[0m\u001b[0mfilename\u001b[0m\u001b[1;33m)\u001b[0m\u001b[1;33m:\u001b[0m\u001b[1;33m\u001b[0m\u001b[1;33m\u001b[0m\u001b[0m\n\u001b[0;32m    295\u001b[0m         \u001b[0mlogger\u001b[0m\u001b[1;33m.\u001b[0m\u001b[0merror\u001b[0m\u001b[1;33m(\u001b[0m\u001b[1;34m'File \"{}\" does not exist.'\u001b[0m\u001b[1;33m.\u001b[0m\u001b[0mformat\u001b[0m\u001b[1;33m(\u001b[0m\u001b[0mfilename\u001b[0m\u001b[1;33m)\u001b[0m\u001b[1;33m)\u001b[0m\u001b[1;33m\u001b[0m\u001b[1;33m\u001b[0m\u001b[0m\n\u001b[1;32m--> 296\u001b[1;33m         \u001b[1;32mraise\u001b[0m \u001b[0mValueError\u001b[0m\u001b[1;33m(\u001b[0m\u001b[1;34m'This is not a valid filename.'\u001b[0m\u001b[1;33m)\u001b[0m\u001b[1;33m\u001b[0m\u001b[1;33m\u001b[0m\u001b[0m\n\u001b[0m\u001b[0;32m    297\u001b[0m \u001b[1;33m\u001b[0m\u001b[0m\n\u001b[0;32m    298\u001b[0m     \u001b[0mfilename\u001b[0m \u001b[1;33m=\u001b[0m \u001b[0mos\u001b[0m\u001b[1;33m.\u001b[0m\u001b[0mpath\u001b[0m\u001b[1;33m.\u001b[0m\u001b[0mabspath\u001b[0m\u001b[1;33m(\u001b[0m\u001b[0mfilename\u001b[0m\u001b[1;33m)\u001b[0m\u001b[1;33m\u001b[0m\u001b[1;33m\u001b[0m\u001b[0m\n",
      "\u001b[1;31mValueError\u001b[0m: This is not a valid filename."
     ]
    }
   ],
   "source": [
    "import xrdtools\n",
    "\n",
    "fpath = r'C:\\OneDrive - UNSW\\Experiments 2019\\Xray\\VG180301\\VG180301_BFO_001_rocking_curve.ras'\n",
    "\n",
    "data = xrdtools.read_xrdml(fpath)"
   ]
  },
  {
   "cell_type": "code",
   "execution_count": 1,
   "metadata": {},
   "outputs": [],
   "source": [
    "def ras_file( file ):\n",
    "    # Read RAS data to object\n",
    "    rasFile = xu.io.rigaku_ras.RASFile(file)\n",
    "        \n",
    "    self.scanaxis = rasFile.scans.scan_axis\n",
    "    self.stepSize = rasFile.scans.meas_step\n",
    "    self.measureSpeed= rasFile.scans.meas_speed\n",
    "    self.dataCount = rasFile.scans.length\n",
    "    # Read raw motor position and intensity data to large 1D arrays\n",
    "\n",
    "    ax1, data = xu.io.getras_scan(rasFile.filename+'%s', '', self.scanaxis)\n",
    "\n",
    "    npinte = np.array(data['int'])\n",
    "    \n",
    "    \n",
    "    # Read omega data from motor positions at the start of each 2theta-Omega scan\n",
    "    om = [rasFile.scans[i].init_mopo['Omega'] for i in range(0, len(rasFile.scans))]\n",
    "    # Convert 2theta-omega data to 1D array\n",
    "    \n",
    "    return (np.transpose(omga), np.transpose(tt), np.transpose(intensities))"
   ]
  },
  {
   "cell_type": "code",
   "execution_count": 3,
   "metadata": {},
   "outputs": [
    {
     "data": {
      "application/vnd.jupyter.widget-view+json": {
       "model_id": "dc1921565c024ae3a9c60398a034a434",
       "version_major": 2,
       "version_minor": 0
      },
      "text/plain": [
       "FigureCanvasNbAgg()"
      ]
     },
     "metadata": {},
     "output_type": "display_data"
    }
   ],
   "source": [
    "import xrayutilities as xu\n",
    "import matplotlib.pyplot as plt\n",
    "import numpy as np\n",
    "import tkinter as tk\n",
    "from tkinter import filedialog\n",
    "import os\n",
    "\n",
    "\n",
    "root = tk.Tk()\n",
    "root.withdraw()\n",
    "filepath = filedialog.askopenfilename()\n",
    "filename = os.path.basename(filepath)\n",
    "\n",
    "#file = r'C:\\Users\\olive\\OneDrive - UNSW\\Experiments 2019\\Xrays\\VG180301\\VG180301_rockingCurve_alignment.ras'\n",
    "rasFile = xu.io.rigaku_ras.RASFile(filepath)\n",
    "ax1, data = xu.io.getras_scan(rasFile.filename+'%s', '', rasFile.scans[0].scan_axis)\n",
    "%matplotlib widget\n",
    "fig, ax = plt.subplots()\n",
    "#Q = 4 * np.pi/1.54 * np.sin(np.radians(ax1/2))\n",
    "\n",
    "ax.plot(data['TwoThetaOmega'], data['int']*data['att'], label='Data', color = 'black')\n",
    "ax.set_xlabel( '2Theta (degrees)')\n",
    "ax.set_ylabel( 'Intensity (a.u.)')\n",
    "ax.set_yscale('log')\n",
    "#ax.set_yscale('log')\n",
    "\n"
   ]
  },
  {
   "cell_type": "code",
   "execution_count": 2,
   "metadata": {},
   "outputs": [
    {
     "data": {
      "image/png": "[encoded data removed]",
      "text/plain": [
       "<Figure size 432x288 with 1 Axes>"
      ]
     },
     "metadata": {
      "needs_background": "light"
     },
     "output_type": "display_data"
    }
   ],
   "source": [
    "\n"
   ]
  },
  {
   "cell_type": "code",
   "execution_count": null,
   "metadata": {},
   "outputs": [],
   "source": [
    "params, sd_params, itlim = xu.math.fit.gauss_fit(ax1, data['int']*data['att'], iparams=[], maxit=300)\n",
    "\n",
    "ax.plot(ax1, xu.math.Gauss1d(ax1, *params), label='Gaussian fit')\n",
    "ax.legend()\n",
    "fwhm = xu.math.fit.fwhm_exp(ax1, xu.math.Gauss1d(ax1, *params))\n",
    "print('FWHM = ' + str(fwhm))"
   ]
  },
  {
   "cell_type": "code",
   "execution_count": 8,
   "metadata": {},
   "outputs": [
    {
     "data": {
      "application/vnd.jupyter.widget-view+json": {
       "model_id": "65c4c7e3b44c4fcbba61d98bbfef367e",
       "version_major": 2,
       "version_minor": 0
      },
      "text/plain": [
       "FigureCanvasNbAgg()"
      ]
     },
     "metadata": {},
     "output_type": "display_data"
    },
    {
     "data": {
      "text/plain": [
       "Text(0.5, 1.0, 'Thick T-phase')"
      ]
     },
     "execution_count": 8,
     "metadata": {},
     "output_type": "execute_result"
    }
   ],
   "source": [
    "root = tk.Tk()\n",
    "root.withdraw()\n",
    "filepath = filedialog.askopenfilename()\n",
    "filename = os.path.basename(filepath)\n",
    "\n",
    "rasFile = xu.io.rigaku_ras.RASFile(filepath)\n",
    "tt_om, data = xu.io.getras_scan(rasFile.filename+'%s', '', rasFile.scans[0].scan_axis)\n",
    "\n",
    "%matplotlib widget\n",
    "fig, ax = plt.subplots()\n",
    "inte = data['int']*data['att']\n",
    "ax.plot(tt_om, inte)\n",
    "ax.set_xlabel('2theta-Omega (degrees)')\n",
    "ax.set_ylabel('Intensity (a.u.)')\n",
    "ax.set_yscale('log')\n",
    "ax.set_title('Thick T-phase')"
   ]
  },
  {
   "cell_type": "code",
   "execution_count": null,
   "metadata": {},
   "outputs": [],
   "source": []
  }
 ],
 "metadata": {
  "kernelspec": {
   "display_name": "Python 3",
   "language": "python",
   "name": "python3"
  },
  "language_info": {
   "codemirror_mode": {
    "name": "ipython",
    "version": 3
   },
   "file_extension": ".py",
   "mimetype": "text/x-python",
   "name": "python",
   "nbconvert_exporter": "python",
   "pygments_lexer": "ipython3",
   "version": "3.7.4"
  }
 },
 "nbformat": 4,
 "nbformat_minor": 4
}

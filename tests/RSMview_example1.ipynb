{
 "cells": [
  {
   "cell_type": "code",
   "execution_count": 12,
   "metadata": {},
   "outputs": [
    {
     "name": "stdout",
     "output_type": "stream",
     "text": [
      "experimental omega = 38.571400000000004\n",
      "experimental tt = 68.7\n",
      "theoretical omega = 34.275545082703836\n",
      "theoretical 2theta = 68.55109016540767\n",
      "XU.analysis.fit_bragg_peak:fitted peak angles: \n",
      "\tom = 38.5654\n",
      "\ttt = 68.5783\n",
      "delta = (4.289879585715568, 0.027169142387293732)\n"
     ]
    }
   ],
   "source": [
    "import lattice\n",
    "#%matplotlib widget\n",
    "import xrayutilities as xu\n",
    "import matplotlib.pyplot as plt\n",
    "from matplotlib import cm, rcParams\n",
    "from matplotlib.colors import ListedColormap, LinearSegmentedColormap\n",
    "import numpy as np\n",
    "\n",
    "# Generate new colormap for RSM display\n",
    "rainbow = cm.get_cmap('rainbow', 256)\n",
    "newcolors = rainbow(np.linspace(0, 1, 256))\n",
    "white = np.array([1, 1, 1, 1])\n",
    "newcolors[:20, :] = white\n",
    "newcmp = ListedColormap(newcolors)\n",
    "\n",
    "refHKL = (2, 2, 0)\n",
    "iHKL = (0,0,1)\n",
    "oHKL = (1, 1, 0)\n",
    "subMat = 'LSAT'\n",
    "\n",
    "rsmFile = lattice.lattice(refHKL, iHKL, oHKL, subMat, geometry = 'real')\n",
    "rsmFile.load_sub()"
   ]
  },
  {
   "cell_type": "code",
   "execution_count": 4,
   "metadata": {},
   "outputs": [
    {
     "data": {
      "application/vnd.jupyter.widget-view+json": {
       "model_id": "",
       "version_major": 2,
       "version_minor": 0
      },
      "text/plain": [
       "Canvas(toolbar=Toolbar(toolitems=[('Home', 'Reset original view', 'home', 'home'), ('Back', 'Back to previous …"
      ]
     },
     "metadata": {},
     "output_type": "display_data"
    }
   ],
   "source": [
    "%matplotlib widget\n",
    "ax = (rsmFile.plot2d( cmap='rainbow' ))\n",
    "#ax2 = (rsmFile.plotQ(60,60))\n"
   ]
  },
  {
   "cell_type": "code",
   "execution_count": 13,
   "metadata": {},
   "outputs": [
    {
     "data": {
      "application/vnd.jupyter.widget-view+json": {
       "model_id": "6e7c556c51df4359b4505503da26b046",
       "version_major": 2,
       "version_minor": 0
      },
      "text/plain": [
       "Canvas(toolbar=Toolbar(toolitems=[('Home', 'Reset original view', 'home', 'home'), ('Back', 'Back to previous …"
      ]
     },
     "metadata": {},
     "output_type": "display_data"
    }
   ],
   "source": [
    "%matplotlib widget\n",
    "b = rsmFile.plotQ(100, 100, 4, 2, nlev=100, cmap='rainbow')\n",
    "b.set_title(rsmFile.filename)\n",
    "b.set_aspect(1)\n",
    "#b.set_xlim(-0.11,0.11)\n",
    "#b.set_ylim(4.18, 5.35)\n",
    "\n"
   ]
  },
  {
   "cell_type": "code",
   "execution_count": null,
   "metadata": {},
   "outputs": [],
   "source": []
  }
 ],
 "metadata": {
  "kernelspec": {
   "display_name": "Python 3",
   "language": "python",
   "name": "python3"
  },
  "language_info": {
   "codemirror_mode": {
    "name": "ipython",
    "version": 3
   },
   "file_extension": ".py",
   "mimetype": "text/x-python",
   "name": "python",
   "nbconvert_exporter": "python",
   "pygments_lexer": "ipython3",
   "version": "3.7.4"
  }
 },
 "nbformat": 4,
 "nbformat_minor": 4
}
